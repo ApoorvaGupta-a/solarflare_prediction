{
 "cells": [
  {
   "cell_type": "markdown",
   "metadata": {},
   "source": [
    "#  Project Machine Learning on Solar Flares from RHESSI Mission"
   ]
  },
  {
   "cell_type": "markdown",
   "metadata": {},
   "source": [
    "# General theme: Astronomy"
   ]
  },
  {
   "cell_type": "markdown",
   "metadata": {},
   "source": [
    "# Specific theme: Solar"
   ]
  },
  {
   "cell_type": "markdown",
   "metadata": {},
   "source": [
    "From datasets:\n",
    "    0. Solar and Lunar Eclipses (https://www.kaggle.com/nasa/solar-eclipses)\n",
    "    1. Trappist-1 Solar System (https://www.kaggle.com/nasa/trappist1)\n",
    "    2. Open Exoplanet Catalogue (https://www.kaggle.com/mrisdal/open-exoplanet-catalogue)\n",
    "    3. Solar Flares from RHESSI Mission (https://www.kaggle.com/khsamaha/solar-flares-rhessi)\n",
    "    4. Star Cluster Simulations (https://www.kaggle.com/mariopasquato/star-cluster-simulations)\n",
    "    5. Exoplanet Hunting in Deep Space (https://www.kaggle.com/keplersmachines/kepler-labelled-time-series-data)"
   ]
  },
  {
   "cell_type": "markdown",
   "metadata": {},
   "source": [
    "### I chose: 3. Solar Flares from RHESSI Mission (https://www.kaggle.com/khsamaha/solar-flares-rhessi)"
   ]
  },
  {
   "cell_type": "markdown",
   "metadata": {},
   "source": [
    "### Because it was the most interesting with many observations"
   ]
  },
  {
   "cell_type": "markdown",
   "metadata": {},
   "source": [
    "# Import the libraries"
   ]
  },
  {
   "cell_type": "code",
   "execution_count": 1,
   "metadata": {},
   "outputs": [],
   "source": [
    "%matplotlib inline\n",
    "import numpy as np \n",
    "import pandas as pd \n",
    "import matplotlib.pyplot as plt\n",
    "import seaborn as sns\n",
    "import time\n",
    "\n",
    "from sklearn.preprocessing import LabelEncoder, StandardScaler, PolynomialFeatures\n",
    "from sklearn.metrics import confusion_matrix\n",
    "from sklearn.model_selection import train_test_split, GridSearchCV\n",
    "from sklearn.linear_model import LinearRegression, RANSACRegressor, LogisticRegression\n",
    "from sklearn.tree import DecisionTreeClassifier, DecisionTreeRegressor\n",
    "from sklearn.ensemble import RandomForestClassifier, AdaBoostClassifier, RandomForestRegressor, AdaBoostRegressor\n",
    "from sklearn.svm import LinearSVR, LinearSVC\n",
    "from sklearn.neighbors import KNeighborsRegressor, KNeighborsClassifier\n",
    "from sklearn.neural_network import MLPRegressor, MLPClassifier"
   ]
  },
  {
   "cell_type": "markdown",
   "metadata": {},
   "source": [
    "# Read"
   ]
  },
  {
   "cell_type": "code",
   "execution_count": 2,
   "metadata": {},
   "outputs": [],
   "source": [
    "df=pd.read_csv(\"C:\\\\Users\\\\hp\\\\Downloads\\\\hessi.solar\\\\hessi.solar.flare.2002to2016.csv\")"
   ]
  },
  {
   "cell_type": "code",
   "execution_count": 3,
   "metadata": {},
   "outputs": [
    {
     "data": {
      "text/html": [
       "<div>\n",
       "<style scoped>\n",
       "    .dataframe tbody tr th:only-of-type {\n",
       "        vertical-align: middle;\n",
       "    }\n",
       "\n",
       "    .dataframe tbody tr th {\n",
       "        vertical-align: top;\n",
       "    }\n",
       "\n",
       "    .dataframe thead th {\n",
       "        text-align: right;\n",
       "    }\n",
       "</style>\n",
       "<table border=\"1\" class=\"dataframe\">\n",
       "  <thead>\n",
       "    <tr style=\"text-align: right;\">\n",
       "      <th></th>\n",
       "      <th>flare</th>\n",
       "      <th>start.date</th>\n",
       "      <th>start.time</th>\n",
       "      <th>peak</th>\n",
       "      <th>end</th>\n",
       "      <th>duration.s</th>\n",
       "      <th>peak.c/s</th>\n",
       "      <th>total.counts</th>\n",
       "      <th>energy.kev</th>\n",
       "      <th>x.pos.asec</th>\n",
       "      <th>y.pos.asec</th>\n",
       "      <th>radial</th>\n",
       "      <th>active.region.ar</th>\n",
       "      <th>flag.1</th>\n",
       "      <th>flag.2</th>\n",
       "      <th>flag.3</th>\n",
       "      <th>flag.4</th>\n",
       "      <th>flag.5</th>\n",
       "    </tr>\n",
       "  </thead>\n",
       "  <tbody>\n",
       "    <tr>\n",
       "      <th>0</th>\n",
       "      <td>2021213</td>\n",
       "      <td>2002-02-12</td>\n",
       "      <td>21:29:56</td>\n",
       "      <td>21:33:38</td>\n",
       "      <td>21:41:48</td>\n",
       "      <td>712</td>\n",
       "      <td>136</td>\n",
       "      <td>167304</td>\n",
       "      <td>12-25</td>\n",
       "      <td>592</td>\n",
       "      <td>-358</td>\n",
       "      <td>692</td>\n",
       "      <td>0</td>\n",
       "      <td>A1</td>\n",
       "      <td>P1</td>\n",
       "      <td>NaN</td>\n",
       "      <td>NaN</td>\n",
       "      <td>NaN</td>\n",
       "    </tr>\n",
       "    <tr>\n",
       "      <th>1</th>\n",
       "      <td>2021228</td>\n",
       "      <td>2002-02-12</td>\n",
       "      <td>21:44:08</td>\n",
       "      <td>21:45:06</td>\n",
       "      <td>21:48:56</td>\n",
       "      <td>288</td>\n",
       "      <td>7</td>\n",
       "      <td>9504</td>\n",
       "      <td>6-12</td>\n",
       "      <td>604</td>\n",
       "      <td>-341</td>\n",
       "      <td>694</td>\n",
       "      <td>9811</td>\n",
       "      <td>A1</td>\n",
       "      <td>P1</td>\n",
       "      <td>PE</td>\n",
       "      <td>Q1</td>\n",
       "      <td>NaN</td>\n",
       "    </tr>\n",
       "    <tr>\n",
       "      <th>2</th>\n",
       "      <td>2021332</td>\n",
       "      <td>2002-02-13</td>\n",
       "      <td>00:53:24</td>\n",
       "      <td>00:54:54</td>\n",
       "      <td>00:57:00</td>\n",
       "      <td>216</td>\n",
       "      <td>15</td>\n",
       "      <td>11448</td>\n",
       "      <td>6-12</td>\n",
       "      <td>-310</td>\n",
       "      <td>375</td>\n",
       "      <td>487</td>\n",
       "      <td>9825</td>\n",
       "      <td>A1</td>\n",
       "      <td>P1</td>\n",
       "      <td>NaN</td>\n",
       "      <td>NaN</td>\n",
       "      <td>NaN</td>\n",
       "    </tr>\n",
       "    <tr>\n",
       "      <th>3</th>\n",
       "      <td>2021308</td>\n",
       "      <td>2002-02-13</td>\n",
       "      <td>04:22:52</td>\n",
       "      <td>04:23:50</td>\n",
       "      <td>04:26:56</td>\n",
       "      <td>244</td>\n",
       "      <td>20</td>\n",
       "      <td>17400</td>\n",
       "      <td>12-25</td>\n",
       "      <td>-277</td>\n",
       "      <td>378</td>\n",
       "      <td>469</td>\n",
       "      <td>9822</td>\n",
       "      <td>A1</td>\n",
       "      <td>P1</td>\n",
       "      <td>NaN</td>\n",
       "      <td>NaN</td>\n",
       "      <td>NaN</td>\n",
       "    </tr>\n",
       "    <tr>\n",
       "      <th>4</th>\n",
       "      <td>2021310</td>\n",
       "      <td>2002-02-13</td>\n",
       "      <td>07:03:52</td>\n",
       "      <td>07:05:14</td>\n",
       "      <td>07:07:48</td>\n",
       "      <td>236</td>\n",
       "      <td>336</td>\n",
       "      <td>313392</td>\n",
       "      <td>25-50</td>\n",
       "      <td>-272</td>\n",
       "      <td>390</td>\n",
       "      <td>476</td>\n",
       "      <td>9825</td>\n",
       "      <td>A1</td>\n",
       "      <td>GS</td>\n",
       "      <td>P1</td>\n",
       "      <td>PE</td>\n",
       "      <td>Q2</td>\n",
       "    </tr>\n",
       "  </tbody>\n",
       "</table>\n",
       "</div>"
      ],
      "text/plain": [
       "     flare  start.date start.time      peak       end  duration.s  peak.c/s  \\\n",
       "0  2021213  2002-02-12   21:29:56  21:33:38  21:41:48         712       136   \n",
       "1  2021228  2002-02-12   21:44:08  21:45:06  21:48:56         288         7   \n",
       "2  2021332  2002-02-13   00:53:24  00:54:54  00:57:00         216        15   \n",
       "3  2021308  2002-02-13   04:22:52  04:23:50  04:26:56         244        20   \n",
       "4  2021310  2002-02-13   07:03:52  07:05:14  07:07:48         236       336   \n",
       "\n",
       "   total.counts energy.kev  x.pos.asec  y.pos.asec  radial  active.region.ar  \\\n",
       "0        167304      12-25         592        -358     692                 0   \n",
       "1          9504       6-12         604        -341     694              9811   \n",
       "2         11448       6-12        -310         375     487              9825   \n",
       "3         17400      12-25        -277         378     469              9822   \n",
       "4        313392      25-50        -272         390     476              9825   \n",
       "\n",
       "  flag.1 flag.2 flag.3 flag.4 flag.5  \n",
       "0     A1     P1    NaN    NaN    NaN  \n",
       "1     A1     P1     PE     Q1    NaN  \n",
       "2     A1     P1    NaN    NaN    NaN  \n",
       "3     A1     P1    NaN    NaN    NaN  \n",
       "4     A1     GS     P1     PE     Q2  "
      ]
     },
     "execution_count": 3,
     "metadata": {},
     "output_type": "execute_result"
    }
   ],
   "source": [
    "df.head()"
   ]
  },
  {
   "cell_type": "code",
   "execution_count": 4,
   "metadata": {},
   "outputs": [
    {
     "data": {
      "text/plain": [
       "(113942, 18)"
      ]
     },
     "execution_count": 4,
     "metadata": {},
     "output_type": "execute_result"
    }
   ],
   "source": [
    "df.shape"
   ]
  },
  {
   "cell_type": "markdown",
   "metadata": {},
   "source": [
    "# The columns are:"
   ]
  },
  {
   "cell_type": "markdown",
   "metadata": {},
   "source": [
    "Description from Solar Flares from RHESSI Mission (https://www.kaggle.com/jmquintana/d/khsamaha/solar-flares-rhessi/solar-flares-from-rhessi-mission) and Description on Solar Flares from RHESSI Mission.txt\n",
    "\n",
    "    0. Flare - An ID number\n",
    "    1. Date - The date when the flare occurred\n",
    "    2. Start - Flare start time\n",
    "    3. Peak - Flare peak time\n",
    "    4. End - Flare end time\n",
    "    5. Dur[s] - Duration of flare in seconds\n",
    "    6. Peak[c/s] - Peak count rate in corrected counts, peak counts/second\n",
    "    7. Total Counts - Total of counts in corrected counts, counts in energy range\n",
    "    8. Energy [keV] - The highest energy band in which the flare was observed.\n",
    "    9. X pos [asec] - Flare position in arcsec from sun center\n",
    "    10. Y pos [asec] - Flare position in arcsec from sun center\n",
    "    11. Radial [asec] - Radial distance in arcsec from sun center\n",
    "    12. Active Region [ar] - A number for the closest active region, if available\n",
    "    13. Flags - Quality Codes\n",
    "        * a0 - In attenuator state 0 (None) sometime during flare\n",
    "        * a1 - In attenuator state 1 (Thin) sometime during flare\n",
    "        * a2 - In attenuator state 2 (Thick) sometime during flare\n",
    "        * a3 - In attenuator state 3 (Both) sometime during flare\n",
    "        * An - Attenuator state (0=None, 1=Thin, 2=Thick, 3=Both) at peak of flare\n",
    "        * DF - Front segment counts were decimated sometime during flare\n",
    "        * DR - Rear segment counts were decimated sometime during flare\n",
    "        * ED - Spacecraft eclipse (night) sometime during flare\n",
    "        * EE - Flare ended in spacecraft eclipse (night)\n",
    "        * ES - Flare started in spacecraft eclipse (night)\n",
    "        * FE - Flare ongoing at end of file\n",
    "        * FR - In Fast Rate Mode\n",
    "        * FS - Flare ongoing at start of file\n",
    "        * GD - Data gap during flare\n",
    "        * GE - Flare ended in data gap\n",
    "        * GS - Flare started in data gap\n",
    "        * MR - Spacecraft in high-latitude zone during flare\n",
    "        * NS - Non-solar event\n",
    "        * PE - Particle event: Particles are present\n",
    "        * PS - Possible Solar Flare; in front detectors, but no position\n",
    "        * Pn - Position Quality: P0 = Position is NOT valid, P1 = Position is valid\n",
    "        * Qn - Data Quality: Q0 = Highest Quality, Q11 = Lowest Quality\n",
    "        * SD - Spacecraft was in SAA sometime during flare\n",
    "        * SE - Flare ended when spacecraft was in SAA\n",
    "        * SS - Flare started when spacecraft was in SAA"
   ]
  },
  {
   "cell_type": "markdown",
   "metadata": {},
   "source": [
    "# Clean dataset"
   ]
  },
  {
   "cell_type": "code",
   "execution_count": 5,
   "metadata": {},
   "outputs": [],
   "source": [
    "df_clean=df.drop(['flare','start.date','start.time','peak','end','active.region.ar','flag.1','flag.2','flag.3','flag.4','flag.5'],axis=1)"
   ]
  },
  {
   "cell_type": "code",
   "execution_count": 6,
   "metadata": {},
   "outputs": [
    {
     "data": {
      "text/html": [
       "<div>\n",
       "<style scoped>\n",
       "    .dataframe tbody tr th:only-of-type {\n",
       "        vertical-align: middle;\n",
       "    }\n",
       "\n",
       "    .dataframe tbody tr th {\n",
       "        vertical-align: top;\n",
       "    }\n",
       "\n",
       "    .dataframe thead th {\n",
       "        text-align: right;\n",
       "    }\n",
       "</style>\n",
       "<table border=\"1\" class=\"dataframe\">\n",
       "  <thead>\n",
       "    <tr style=\"text-align: right;\">\n",
       "      <th></th>\n",
       "      <th>duration_s</th>\n",
       "      <th>peak_c_s</th>\n",
       "      <th>total_counts</th>\n",
       "      <th>energy_kev</th>\n",
       "      <th>x_pos_asec</th>\n",
       "      <th>y_pos_asec</th>\n",
       "      <th>radial</th>\n",
       "    </tr>\n",
       "  </thead>\n",
       "  <tbody>\n",
       "    <tr>\n",
       "      <th>0</th>\n",
       "      <td>712</td>\n",
       "      <td>136</td>\n",
       "      <td>167304</td>\n",
       "      <td>12-25</td>\n",
       "      <td>592</td>\n",
       "      <td>-358</td>\n",
       "      <td>692</td>\n",
       "    </tr>\n",
       "    <tr>\n",
       "      <th>1</th>\n",
       "      <td>288</td>\n",
       "      <td>7</td>\n",
       "      <td>9504</td>\n",
       "      <td>6-12</td>\n",
       "      <td>604</td>\n",
       "      <td>-341</td>\n",
       "      <td>694</td>\n",
       "    </tr>\n",
       "    <tr>\n",
       "      <th>2</th>\n",
       "      <td>216</td>\n",
       "      <td>15</td>\n",
       "      <td>11448</td>\n",
       "      <td>6-12</td>\n",
       "      <td>-310</td>\n",
       "      <td>375</td>\n",
       "      <td>487</td>\n",
       "    </tr>\n",
       "    <tr>\n",
       "      <th>3</th>\n",
       "      <td>244</td>\n",
       "      <td>20</td>\n",
       "      <td>17400</td>\n",
       "      <td>12-25</td>\n",
       "      <td>-277</td>\n",
       "      <td>378</td>\n",
       "      <td>469</td>\n",
       "    </tr>\n",
       "    <tr>\n",
       "      <th>4</th>\n",
       "      <td>236</td>\n",
       "      <td>336</td>\n",
       "      <td>313392</td>\n",
       "      <td>25-50</td>\n",
       "      <td>-272</td>\n",
       "      <td>390</td>\n",
       "      <td>476</td>\n",
       "    </tr>\n",
       "  </tbody>\n",
       "</table>\n",
       "</div>"
      ],
      "text/plain": [
       "   duration_s  peak_c_s  total_counts energy_kev  x_pos_asec  y_pos_asec  \\\n",
       "0         712       136        167304      12-25         592        -358   \n",
       "1         288         7          9504       6-12         604        -341   \n",
       "2         216        15         11448       6-12        -310         375   \n",
       "3         244        20         17400      12-25        -277         378   \n",
       "4         236       336        313392      25-50        -272         390   \n",
       "\n",
       "   radial  \n",
       "0     692  \n",
       "1     694  \n",
       "2     487  \n",
       "3     469  \n",
       "4     476  "
      ]
     },
     "execution_count": 6,
     "metadata": {},
     "output_type": "execute_result"
    }
   ],
   "source": [
    "df_clean.columns=['duration_s','peak_c_s','total_counts','energy_kev','x_pos_asec','y_pos_asec','radial']\n",
    "df_clean.head()"
   ]
  },
  {
   "cell_type": "code",
   "execution_count": 7,
   "metadata": {},
   "outputs": [
    {
     "data": {
      "text/plain": [
       "duration_s      0\n",
       "peak_c_s        0\n",
       "total_counts    0\n",
       "energy_kev      0\n",
       "x_pos_asec      0\n",
       "y_pos_asec      0\n",
       "radial          0\n",
       "dtype: int64"
      ]
     },
     "execution_count": 7,
     "metadata": {},
     "output_type": "execute_result"
    }
   ],
   "source": [
    "df_clean.isnull().sum()"
   ]
  },
  {
   "cell_type": "markdown",
   "metadata": {},
   "source": [
    "# Correlation between the data"
   ]
  },
  {
   "cell_type": "code",
   "execution_count": 8,
   "metadata": {},
   "outputs": [
    {
     "data": {
      "text/plain": [
       "<matplotlib.axes._subplots.AxesSubplot at 0x2b9623128c8>"
      ]
     },
     "execution_count": 8,
     "metadata": {},
     "output_type": "execute_result"
    },
    {
     "data": {
      "image/png": "[encoded data removed]",
      "text/plain": [
       "<Figure size 432x288 with 2 Axes>"
      ]
     },
     "metadata": {
      "needs_background": "light"
     },
     "output_type": "display_data"
    }
   ],
   "source": [
    "sns.heatmap(df_clean.corr(),annot=True, fmt=\".2f\",square=True)"
   ]
  },
  {
   "cell_type": "markdown",
   "metadata": {},
   "source": [
    "I notice a linear dependence between total_counts and peak_c_s"
   ]
  },
  {
   "cell_type": "code",
   "execution_count": 9,
   "metadata": {},
   "outputs": [
    {
     "data": {
      "text/plain": [
       "<matplotlib.collections.PathCollection at 0x2b96312a508>"
      ]
     },
     "execution_count": 9,
     "metadata": {},
     "output_type": "execute_result"
    },
    {
     "data": {
      "image/png": "[encoded data removed]",
      "text/plain": [
       "<Figure size 432x288 with 1 Axes>"
      ]
     },
     "metadata": {
      "needs_background": "light"
     },
     "output_type": "display_data"
    }
   ],
   "source": [
    "plt.scatter(df_clean['total_counts'],df_clean['peak_c_s'])"
   ]
  },
  {
   "cell_type": "markdown",
   "metadata": {},
   "source": [
    "I notice clusters between x_pos_asec and y_pos_asec"
   ]
  },
  {
   "cell_type": "code",
   "execution_count": 10,
   "metadata": {},
   "outputs": [
    {
     "data": {
      "text/plain": [
       "<matplotlib.collections.PathCollection at 0x2b963cf9288>"
      ]
     },
     "execution_count": 10,
     "metadata": {},
     "output_type": "execute_result"
    },
    {
     "data": {
      "image/png": "[encoded data removed]",
      "text/plain": [
       "<Figure size 432x288 with 1 Axes>"
      ]
     },
     "metadata": {
      "needs_background": "light"
     },
     "output_type": "display_data"
    }
   ],
   "source": [
    "plt.scatter(df_clean['x_pos_asec'],df_clean['y_pos_asec'])"
   ]
  },
  {
   "cell_type": "markdown",
   "metadata": {},
   "source": [
    "Let's look at clusters closely"
   ]
  },
  {
   "cell_type": "code",
   "execution_count": 11,
   "metadata": {},
   "outputs": [
    {
     "data": {
      "text/plain": [
       "Text(0.5, 1.0, 'The Big cluster')"
      ]
     },
     "execution_count": 11,
     "metadata": {},
     "output_type": "execute_result"
    },
    {
     "data": {
      "image/png": "[encoded data removed]",
      "text/plain": [
       "<Figure size 720x720 with 1 Axes>"
      ]
     },
     "metadata": {
      "needs_background": "light"
     },
     "output_type": "display_data"
    }
   ],
   "source": [
    "plt.figure(figsize=[10, 10])\n",
    "plt.xlim(-1100, 1100)\n",
    "plt.ylim(-1100, 1100)\n",
    "plt.scatter(df_clean.x_pos_asec,df_clean.y_pos_asec, s=1, c='#F54C0F')\n",
    "plt.xlabel(\"Sepal length\")\n",
    "plt.ylabel(\"Sepal width\")\n",
    "plt.title(\"The Big cluster\")"
   ]
  },
  {
   "cell_type": "markdown",
   "metadata": {},
   "source": [
    "This is the distribution of the eruptions on the sun"
   ]
  },
  {
   "cell_type": "markdown",
   "metadata": {},
   "source": [
    "#  This picture is observed because:"
   ]
  },
  {
   "cell_type": "markdown",
   "metadata": {},
   "source": [
    "Different parts of the sun rotate at different speeds: the gas at the equator rotates faster than does that at the poles. This differential rotation shears the gas and affects the Sun's magnetic field. As time goes on, the magnetic-field lines become highly distorted and twisted."
   ]
  },
  {
   "cell_type": "code",
   "execution_count": 4,
   "metadata": {},
   "outputs": [
    {
     "data": {
      "image/jpeg": "[encoded data removed]",
      "text/plain": [
       "<IPython.core.display.Image object>"
      ]
     },
     "execution_count": 4,
     "metadata": {},
     "output_type": "execute_result"
    }
   ],
   "source": [
    "from IPython.display import Image\n",
    "Image(\"The Sun's swirling magnetic field.jpg\")"
   ]
  },
  {
   "cell_type": "code",
   "execution_count": 12,
   "metadata": {},
   "outputs": [
    {
     "data": {
      "text/plain": [
       "Text(0.5, 1.0, 'The Average cluster')"
      ]
     },
     "execution_count": 12,
     "metadata": {},
     "output_type": "execute_result"
    },
    {
     "data": {
      "image/png": "[encoded data removed]",
      "text/plain": [
       "<Figure size 720x720 with 1 Axes>"
      ]
     },
     "metadata": {
      "needs_background": "light"
     },
     "output_type": "display_data"
    }
   ],
   "source": [
    "plt.figure(figsize=[10, 10])\n",
    "plt.xlim(-6000, -4000)\n",
    "plt.ylim(-4000, -6000)\n",
    "plt.scatter(df_clean.x_pos_asec,df_clean.y_pos_asec,c='#F54C0F')\n",
    "plt.xlabel(\"Sepal length\")\n",
    "plt.ylabel(\"Sepal width\")\n",
    "plt.title(\"The Average cluster\")"
   ]
  },
  {
   "cell_type": "code",
   "execution_count": 13,
   "metadata": {},
   "outputs": [
    {
     "data": {
      "text/plain": [
       "Text(0.5, 1.0, 'The Small cluster')"
      ]
     },
     "execution_count": 13,
     "metadata": {},
     "output_type": "execute_result"
    },
    {
     "data": {
      "image/png": "[encoded data removed]",
      "text/plain": [
       "<Figure size 720x720 with 1 Axes>"
      ]
     },
     "metadata": {
      "needs_background": "light"
     },
     "output_type": "display_data"
    }
   ],
   "source": [
    "plt.figure(figsize=[10, 10])\n",
    "plt.xlim(-10025, -9975)\n",
    "plt.ylim(-9975, -10025)\n",
    "plt.scatter(df_clean.x_pos_asec,df_clean.y_pos_asec,c='#F54C0F')\n",
    "plt.xlabel(\"Sepal length\")\n",
    "plt.ylabel(\"Sepal width\")\n",
    "plt.title(\"The Small cluster\")"
   ]
  },
  {
   "cell_type": "code",
   "execution_count": 14,
   "metadata": {},
   "outputs": [
    {
     "data": {
      "text/plain": [
       "6-12          85695\n",
       "12-25         19364\n",
       "3-6            6336\n",
       "25-50          1944\n",
       "50-100          407\n",
       "100-300         181\n",
       "300-800          12\n",
       "800-7000          2\n",
       "7000-20000        1\n",
       "Name: energy_kev, dtype: int64"
      ]
     },
     "execution_count": 14,
     "metadata": {},
     "output_type": "execute_result"
    }
   ],
   "source": [
    "df_clean['energy_kev'].value_counts()"
   ]
  },
  {
   "cell_type": "markdown",
   "metadata": {},
   "source": [
    "# Scaling the values"
   ]
  },
  {
   "cell_type": "code",
   "execution_count": 15,
   "metadata": {},
   "outputs": [
    {
     "data": {
      "text/html": [
       "<div>\n",
       "<style scoped>\n",
       "    .dataframe tbody tr th:only-of-type {\n",
       "        vertical-align: middle;\n",
       "    }\n",
       "\n",
       "    .dataframe tbody tr th {\n",
       "        vertical-align: top;\n",
       "    }\n",
       "\n",
       "    .dataframe thead th {\n",
       "        text-align: right;\n",
       "    }\n",
       "</style>\n",
       "<table border=\"1\" class=\"dataframe\">\n",
       "  <thead>\n",
       "    <tr style=\"text-align: right;\">\n",
       "      <th></th>\n",
       "      <th>duration_s</th>\n",
       "      <th>peak_c_s</th>\n",
       "      <th>total_counts</th>\n",
       "      <th>energy_kev</th>\n",
       "      <th>x_pos_asec</th>\n",
       "      <th>y_pos_asec</th>\n",
       "      <th>radial</th>\n",
       "    </tr>\n",
       "  </thead>\n",
       "  <tbody>\n",
       "    <tr>\n",
       "      <th>0</th>\n",
       "      <td>712</td>\n",
       "      <td>136</td>\n",
       "      <td>167304</td>\n",
       "      <td>1</td>\n",
       "      <td>592</td>\n",
       "      <td>-358</td>\n",
       "      <td>692</td>\n",
       "    </tr>\n",
       "    <tr>\n",
       "      <th>1</th>\n",
       "      <td>288</td>\n",
       "      <td>7</td>\n",
       "      <td>9504</td>\n",
       "      <td>6</td>\n",
       "      <td>604</td>\n",
       "      <td>-341</td>\n",
       "      <td>694</td>\n",
       "    </tr>\n",
       "    <tr>\n",
       "      <th>2</th>\n",
       "      <td>216</td>\n",
       "      <td>15</td>\n",
       "      <td>11448</td>\n",
       "      <td>6</td>\n",
       "      <td>-310</td>\n",
       "      <td>375</td>\n",
       "      <td>487</td>\n",
       "    </tr>\n",
       "    <tr>\n",
       "      <th>3</th>\n",
       "      <td>244</td>\n",
       "      <td>20</td>\n",
       "      <td>17400</td>\n",
       "      <td>1</td>\n",
       "      <td>-277</td>\n",
       "      <td>378</td>\n",
       "      <td>469</td>\n",
       "    </tr>\n",
       "    <tr>\n",
       "      <th>4</th>\n",
       "      <td>236</td>\n",
       "      <td>336</td>\n",
       "      <td>313392</td>\n",
       "      <td>2</td>\n",
       "      <td>-272</td>\n",
       "      <td>390</td>\n",
       "      <td>476</td>\n",
       "    </tr>\n",
       "  </tbody>\n",
       "</table>\n",
       "</div>"
      ],
      "text/plain": [
       "   duration_s  peak_c_s  total_counts  energy_kev  x_pos_asec  y_pos_asec  \\\n",
       "0         712       136        167304           1         592        -358   \n",
       "1         288         7          9504           6         604        -341   \n",
       "2         216        15         11448           6        -310         375   \n",
       "3         244        20         17400           1        -277         378   \n",
       "4         236       336        313392           2        -272         390   \n",
       "\n",
       "   radial  \n",
       "0     692  \n",
       "1     694  \n",
       "2     487  \n",
       "3     469  \n",
       "4     476  "
      ]
     },
     "execution_count": 15,
     "metadata": {},
     "output_type": "execute_result"
    }
   ],
   "source": [
    "l=LabelEncoder()\n",
    "df_clean.energy_kev=l.fit_transform(df_clean.energy_kev)\n",
    "df_clean.head()"
   ]
  },
  {
   "cell_type": "code",
   "execution_count": 16,
   "metadata": {},
   "outputs": [
    {
     "data": {
      "text/html": [
       "<div>\n",
       "<style scoped>\n",
       "    .dataframe tbody tr th:only-of-type {\n",
       "        vertical-align: middle;\n",
       "    }\n",
       "\n",
       "    .dataframe tbody tr th {\n",
       "        vertical-align: top;\n",
       "    }\n",
       "\n",
       "    .dataframe thead th {\n",
       "        text-align: right;\n",
       "    }\n",
       "</style>\n",
       "<table border=\"1\" class=\"dataframe\">\n",
       "  <thead>\n",
       "    <tr style=\"text-align: right;\">\n",
       "      <th></th>\n",
       "      <th>duration_s</th>\n",
       "      <th>peak_c_s</th>\n",
       "      <th>total_counts</th>\n",
       "      <th>x_pos_asec</th>\n",
       "      <th>y_pos_asec</th>\n",
       "      <th>radial</th>\n",
       "    </tr>\n",
       "  </thead>\n",
       "  <tbody>\n",
       "    <tr>\n",
       "      <th>0</th>\n",
       "      <td>712</td>\n",
       "      <td>136</td>\n",
       "      <td>167304</td>\n",
       "      <td>592</td>\n",
       "      <td>-358</td>\n",
       "      <td>692</td>\n",
       "    </tr>\n",
       "    <tr>\n",
       "      <th>1</th>\n",
       "      <td>288</td>\n",
       "      <td>7</td>\n",
       "      <td>9504</td>\n",
       "      <td>604</td>\n",
       "      <td>-341</td>\n",
       "      <td>694</td>\n",
       "    </tr>\n",
       "    <tr>\n",
       "      <th>2</th>\n",
       "      <td>216</td>\n",
       "      <td>15</td>\n",
       "      <td>11448</td>\n",
       "      <td>-310</td>\n",
       "      <td>375</td>\n",
       "      <td>487</td>\n",
       "    </tr>\n",
       "    <tr>\n",
       "      <th>3</th>\n",
       "      <td>244</td>\n",
       "      <td>20</td>\n",
       "      <td>17400</td>\n",
       "      <td>-277</td>\n",
       "      <td>378</td>\n",
       "      <td>469</td>\n",
       "    </tr>\n",
       "    <tr>\n",
       "      <th>4</th>\n",
       "      <td>236</td>\n",
       "      <td>336</td>\n",
       "      <td>313392</td>\n",
       "      <td>-272</td>\n",
       "      <td>390</td>\n",
       "      <td>476</td>\n",
       "    </tr>\n",
       "  </tbody>\n",
       "</table>\n",
       "</div>"
      ],
      "text/plain": [
       "   duration_s  peak_c_s  total_counts  x_pos_asec  y_pos_asec  radial\n",
       "0         712       136        167304         592        -358     692\n",
       "1         288         7          9504         604        -341     694\n",
       "2         216        15         11448        -310         375     487\n",
       "3         244        20         17400        -277         378     469\n",
       "4         236       336        313392        -272         390     476"
      ]
     },
     "execution_count": 16,
     "metadata": {},
     "output_type": "execute_result"
    }
   ],
   "source": [
    "labels_classification_energy_kev = df_clean.energy_kev\n",
    "labels_regression_total = df_clean.total_counts\n",
    "attributes = df_clean.drop([\"energy_kev\"], axis = 1)\n",
    "attributes.head()"
   ]
  },
  {
   "cell_type": "code",
   "execution_count": 17,
   "metadata": {},
   "outputs": [],
   "source": [
    "s=StandardScaler()\n",
    "df_clean_ss=s.fit_transform(attributes)\n",
    "#attributes_standardscaler = s.fit_transform(attributes)"
   ]
  },
  {
   "cell_type": "code",
   "execution_count": 18,
   "metadata": {},
   "outputs": [],
   "source": [
    "df_clean_sss=pd.DataFrame(df_clean_ss,columns=attributes.columns)"
   ]
  },
  {
   "cell_type": "code",
   "execution_count": 19,
   "metadata": {},
   "outputs": [
    {
     "data": {
      "text/html": [
       "<div>\n",
       "<style scoped>\n",
       "    .dataframe tbody tr th:only-of-type {\n",
       "        vertical-align: middle;\n",
       "    }\n",
       "\n",
       "    .dataframe tbody tr th {\n",
       "        vertical-align: top;\n",
       "    }\n",
       "\n",
       "    .dataframe thead th {\n",
       "        text-align: right;\n",
       "    }\n",
       "</style>\n",
       "<table border=\"1\" class=\"dataframe\">\n",
       "  <thead>\n",
       "    <tr style=\"text-align: right;\">\n",
       "      <th></th>\n",
       "      <th>duration_s</th>\n",
       "      <th>peak_c_s</th>\n",
       "      <th>total_counts</th>\n",
       "      <th>x_pos_asec</th>\n",
       "      <th>y_pos_asec</th>\n",
       "      <th>radial</th>\n",
       "    </tr>\n",
       "  </thead>\n",
       "  <tbody>\n",
       "    <tr>\n",
       "      <th>0</th>\n",
       "      <td>0.505202</td>\n",
       "      <td>-0.091538</td>\n",
       "      <td>-0.068344</td>\n",
       "      <td>0.794902</td>\n",
       "      <td>-0.778330</td>\n",
       "      <td>0.004815</td>\n",
       "    </tr>\n",
       "    <tr>\n",
       "      <th>1</th>\n",
       "      <td>-0.473137</td>\n",
       "      <td>-0.246256</td>\n",
       "      <td>-0.119725</td>\n",
       "      <td>0.810754</td>\n",
       "      <td>-0.736308</td>\n",
       "      <td>0.008712</td>\n",
       "    </tr>\n",
       "    <tr>\n",
       "      <th>2</th>\n",
       "      <td>-0.639270</td>\n",
       "      <td>-0.236661</td>\n",
       "      <td>-0.119092</td>\n",
       "      <td>-0.396621</td>\n",
       "      <td>1.033578</td>\n",
       "      <td>-0.394639</td>\n",
       "    </tr>\n",
       "    <tr>\n",
       "      <th>3</th>\n",
       "      <td>-0.574663</td>\n",
       "      <td>-0.230664</td>\n",
       "      <td>-0.117154</td>\n",
       "      <td>-0.353029</td>\n",
       "      <td>1.040994</td>\n",
       "      <td>-0.429713</td>\n",
       "    </tr>\n",
       "    <tr>\n",
       "      <th>4</th>\n",
       "      <td>-0.593122</td>\n",
       "      <td>0.148336</td>\n",
       "      <td>-0.020777</td>\n",
       "      <td>-0.346424</td>\n",
       "      <td>1.070657</td>\n",
       "      <td>-0.416073</td>\n",
       "    </tr>\n",
       "  </tbody>\n",
       "</table>\n",
       "</div>"
      ],
      "text/plain": [
       "   duration_s  peak_c_s  total_counts  x_pos_asec  y_pos_asec    radial\n",
       "0    0.505202 -0.091538     -0.068344    0.794902   -0.778330  0.004815\n",
       "1   -0.473137 -0.246256     -0.119725    0.810754   -0.736308  0.008712\n",
       "2   -0.639270 -0.236661     -0.119092   -0.396621    1.033578 -0.394639\n",
       "3   -0.574663 -0.230664     -0.117154   -0.353029    1.040994 -0.429713\n",
       "4   -0.593122  0.148336     -0.020777   -0.346424    1.070657 -0.416073"
      ]
     },
     "execution_count": 19,
     "metadata": {},
     "output_type": "execute_result"
    }
   ],
   "source": [
    "df_clean_sss.head()"
   ]
  },
  {
   "cell_type": "code",
   "execution_count": 20,
   "metadata": {},
   "outputs": [],
   "source": [
    "labels_regression_total_counts=df_clean_sss.total_counts\n",
    "df_clean_dep=df_clean_sss.drop(['total_counts'],axis=1)"
   ]
  },
  {
   "cell_type": "code",
   "execution_count": 21,
   "metadata": {},
   "outputs": [
    {
     "data": {
      "text/html": [
       "<div>\n",
       "<style scoped>\n",
       "    .dataframe tbody tr th:only-of-type {\n",
       "        vertical-align: middle;\n",
       "    }\n",
       "\n",
       "    .dataframe tbody tr th {\n",
       "        vertical-align: top;\n",
       "    }\n",
       "\n",
       "    .dataframe thead th {\n",
       "        text-align: right;\n",
       "    }\n",
       "</style>\n",
       "<table border=\"1\" class=\"dataframe\">\n",
       "  <thead>\n",
       "    <tr style=\"text-align: right;\">\n",
       "      <th></th>\n",
       "      <th>duration_s</th>\n",
       "      <th>peak_c_s</th>\n",
       "      <th>x_pos_asec</th>\n",
       "      <th>y_pos_asec</th>\n",
       "      <th>radial</th>\n",
       "    </tr>\n",
       "  </thead>\n",
       "  <tbody>\n",
       "    <tr>\n",
       "      <th>0</th>\n",
       "      <td>0.505202</td>\n",
       "      <td>-0.091538</td>\n",
       "      <td>0.794902</td>\n",
       "      <td>-0.778330</td>\n",
       "      <td>0.004815</td>\n",
       "    </tr>\n",
       "    <tr>\n",
       "      <th>1</th>\n",
       "      <td>-0.473137</td>\n",
       "      <td>-0.246256</td>\n",
       "      <td>0.810754</td>\n",
       "      <td>-0.736308</td>\n",
       "      <td>0.008712</td>\n",
       "    </tr>\n",
       "    <tr>\n",
       "      <th>2</th>\n",
       "      <td>-0.639270</td>\n",
       "      <td>-0.236661</td>\n",
       "      <td>-0.396621</td>\n",
       "      <td>1.033578</td>\n",
       "      <td>-0.394639</td>\n",
       "    </tr>\n",
       "    <tr>\n",
       "      <th>3</th>\n",
       "      <td>-0.574663</td>\n",
       "      <td>-0.230664</td>\n",
       "      <td>-0.353029</td>\n",
       "      <td>1.040994</td>\n",
       "      <td>-0.429713</td>\n",
       "    </tr>\n",
       "    <tr>\n",
       "      <th>4</th>\n",
       "      <td>-0.593122</td>\n",
       "      <td>0.148336</td>\n",
       "      <td>-0.346424</td>\n",
       "      <td>1.070657</td>\n",
       "      <td>-0.416073</td>\n",
       "    </tr>\n",
       "  </tbody>\n",
       "</table>\n",
       "</div>"
      ],
      "text/plain": [
       "   duration_s  peak_c_s  x_pos_asec  y_pos_asec    radial\n",
       "0    0.505202 -0.091538    0.794902   -0.778330  0.004815\n",
       "1   -0.473137 -0.246256    0.810754   -0.736308  0.008712\n",
       "2   -0.639270 -0.236661   -0.396621    1.033578 -0.394639\n",
       "3   -0.574663 -0.230664   -0.353029    1.040994 -0.429713\n",
       "4   -0.593122  0.148336   -0.346424    1.070657 -0.416073"
      ]
     },
     "execution_count": 21,
     "metadata": {},
     "output_type": "execute_result"
    }
   ],
   "source": [
    "df_clean_dep.head()"
   ]
  },
  {
   "cell_type": "markdown",
   "metadata": {},
   "source": [
    "# Split the data for regression and for classification"
   ]
  },
  {
   "cell_type": "code",
   "execution_count": 22,
   "metadata": {},
   "outputs": [
    {
     "name": "stdout",
     "output_type": "stream",
     "text": [
      "X_train_regression:  (79759, 5)\n",
      "X_test_regression:   (34183, 5)\n",
      "y_train_regression:  (79759,)\n",
      "y_test_regression:   (34183,)\n"
     ]
    }
   ],
   "source": [
    "x_train, x_test, y_train, y_test = train_test_split(df_clean_dep, labels_regression_total_counts, train_size = 0.7)\n",
    "print(\"X_train_regression: \", x_train.shape)\n",
    "print(\"X_test_regression:  \", x_test.shape)\n",
    "print(\"y_train_regression: \", y_train.shape)\n",
    "print(\"y_test_regression:  \", y_test.shape)"
   ]
  },
  {
   "cell_type": "code",
   "execution_count": 23,
   "metadata": {},
   "outputs": [
    {
     "name": "stdout",
     "output_type": "stream",
     "text": [
      "X_train_classification:  (79759, 5)\n",
      "X_test_classification:   (34183, 5)\n",
      "y_train_classification:  (79759,)\n",
      "y_test_classification:   (34183,)\n"
     ]
    }
   ],
   "source": [
    "X_train_classification, X_test_classification, y_train_classification, y_test_classification = train_test_split(df_clean_dep, labels_classification_energy_kev, train_size = 0.7)\n",
    "print(\"X_train_classification: \", X_train_classification.shape)\n",
    "print(\"X_test_classification:  \", X_test_classification.shape)\n",
    "print(\"y_train_classification: \", y_train_classification.shape)\n",
    "print(\"y_test_classification:  \", y_test_classification.shape)"
   ]
  },
  {
   "cell_type": "markdown",
   "metadata": {},
   "source": [
    "# Model 0: Linear regression"
   ]
  },
  {
   "cell_type": "code",
   "execution_count": 25,
   "metadata": {},
   "outputs": [
    {
     "name": "stdout",
     "output_type": "stream",
     "text": [
      "LinearRegression Score:  0.7315722793851589\n",
      "Time:  0.03572535514831543\n"
     ]
    }
   ],
   "source": [
    "start = time.time()\n",
    "\n",
    "lr = LinearRegression()\n",
    "lr.fit(x_train, y_train)\n",
    "LinearRegressionScore = lr.score(x_test, y_test)\n",
    "print(\"LinearRegression Score: \", lr.score(x_test, y_test))\n",
    "\n",
    "end = time.time()\n",
    "linear_regression_time = end - start\n",
    "print(\"Time: \", linear_regression_time)"
   ]
  },
  {
   "cell_type": "code",
   "execution_count": 26,
   "metadata": {},
   "outputs": [
    {
     "name": "stdout",
     "output_type": "stream",
     "text": [
      "Best Params:  {'fit_intercept': False, 'normalize': True}\n",
      "LinearRegression Tune Score:  0.731573563558918\n",
      "Time:  0.722161054611206\n"
     ]
    }
   ],
   "source": [
    "start = time.time()\n",
    "\n",
    "linear_regression = LinearRegression()\n",
    "tuned_params = [{\"fit_intercept\":[True, False], \"normalize\":[True, False]}]\n",
    "linear_regression_grid = GridSearchCV(linear_regression, tuned_params)\n",
    "linear_regression_grid.fit(x_train, y_train)\n",
    "print(\"Best Params: \", linear_regression_grid.best_params_)\n",
    "LinearRegressionTuneScore = linear_regression_grid.score(x_test, y_test)\n",
    "print(\"LinearRegression Tune Score: \", linear_regression_grid.score(x_test, y_test))\n",
    "\n",
    "end = time.time()\n",
    "linear_regression_grid_time = end - start\n",
    "print(\"Time: \", linear_regression_grid_time)"
   ]
  },
  {
   "cell_type": "code",
   "execution_count": 27,
   "metadata": {},
   "outputs": [
    {
     "data": {
      "text/html": [
       "<div>\n",
       "<style scoped>\n",
       "    .dataframe tbody tr th:only-of-type {\n",
       "        vertical-align: middle;\n",
       "    }\n",
       "\n",
       "    .dataframe tbody tr th {\n",
       "        vertical-align: top;\n",
       "    }\n",
       "\n",
       "    .dataframe thead th {\n",
       "        text-align: right;\n",
       "    }\n",
       "</style>\n",
       "<table border=\"1\" class=\"dataframe\">\n",
       "  <thead>\n",
       "    <tr style=\"text-align: right;\">\n",
       "      <th></th>\n",
       "      <th>mean_fit_time</th>\n",
       "      <th>std_fit_time</th>\n",
       "      <th>mean_score_time</th>\n",
       "      <th>std_score_time</th>\n",
       "      <th>param_fit_intercept</th>\n",
       "      <th>param_normalize</th>\n",
       "      <th>params</th>\n",
       "      <th>split0_test_score</th>\n",
       "      <th>split1_test_score</th>\n",
       "      <th>split2_test_score</th>\n",
       "      <th>split3_test_score</th>\n",
       "      <th>split4_test_score</th>\n",
       "      <th>mean_test_score</th>\n",
       "      <th>std_test_score</th>\n",
       "      <th>rank_test_score</th>\n",
       "    </tr>\n",
       "  </thead>\n",
       "  <tbody>\n",
       "    <tr>\n",
       "      <th>0</th>\n",
       "      <td>0.025347</td>\n",
       "      <td>0.003234</td>\n",
       "      <td>0.004548</td>\n",
       "      <td>0.002170</td>\n",
       "      <td>True</td>\n",
       "      <td>True</td>\n",
       "      <td>{'fit_intercept': True, 'normalize': True}</td>\n",
       "      <td>0.755136</td>\n",
       "      <td>0.632915</td>\n",
       "      <td>0.583230</td>\n",
       "      <td>0.509901</td>\n",
       "      <td>0.555541</td>\n",
       "      <td>0.607345</td>\n",
       "      <td>0.083972</td>\n",
       "      <td>3</td>\n",
       "    </tr>\n",
       "    <tr>\n",
       "      <th>1</th>\n",
       "      <td>0.023700</td>\n",
       "      <td>0.006009</td>\n",
       "      <td>0.005018</td>\n",
       "      <td>0.006233</td>\n",
       "      <td>True</td>\n",
       "      <td>False</td>\n",
       "      <td>{'fit_intercept': True, 'normalize': False}</td>\n",
       "      <td>0.755136</td>\n",
       "      <td>0.632915</td>\n",
       "      <td>0.583230</td>\n",
       "      <td>0.509901</td>\n",
       "      <td>0.555541</td>\n",
       "      <td>0.607345</td>\n",
       "      <td>0.083972</td>\n",
       "      <td>4</td>\n",
       "    </tr>\n",
       "    <tr>\n",
       "      <th>2</th>\n",
       "      <td>0.027625</td>\n",
       "      <td>0.005510</td>\n",
       "      <td>0.006815</td>\n",
       "      <td>0.007548</td>\n",
       "      <td>False</td>\n",
       "      <td>True</td>\n",
       "      <td>{'fit_intercept': False, 'normalize': True}</td>\n",
       "      <td>0.755140</td>\n",
       "      <td>0.632921</td>\n",
       "      <td>0.583249</td>\n",
       "      <td>0.509902</td>\n",
       "      <td>0.555540</td>\n",
       "      <td>0.607351</td>\n",
       "      <td>0.083973</td>\n",
       "      <td>1</td>\n",
       "    </tr>\n",
       "    <tr>\n",
       "      <th>3</th>\n",
       "      <td>0.026338</td>\n",
       "      <td>0.006732</td>\n",
       "      <td>0.003124</td>\n",
       "      <td>0.006248</td>\n",
       "      <td>False</td>\n",
       "      <td>False</td>\n",
       "      <td>{'fit_intercept': False, 'normalize': False}</td>\n",
       "      <td>0.755140</td>\n",
       "      <td>0.632921</td>\n",
       "      <td>0.583249</td>\n",
       "      <td>0.509902</td>\n",
       "      <td>0.555540</td>\n",
       "      <td>0.607351</td>\n",
       "      <td>0.083973</td>\n",
       "      <td>1</td>\n",
       "    </tr>\n",
       "  </tbody>\n",
       "</table>\n",
       "</div>"
      ],
      "text/plain": [
       "   mean_fit_time  std_fit_time  mean_score_time  std_score_time  \\\n",
       "0       0.025347      0.003234         0.004548        0.002170   \n",
       "1       0.023700      0.006009         0.005018        0.006233   \n",
       "2       0.027625      0.005510         0.006815        0.007548   \n",
       "3       0.026338      0.006732         0.003124        0.006248   \n",
       "\n",
       "  param_fit_intercept param_normalize  \\\n",
       "0                True            True   \n",
       "1                True           False   \n",
       "2               False            True   \n",
       "3               False           False   \n",
       "\n",
       "                                         params  split0_test_score  \\\n",
       "0    {'fit_intercept': True, 'normalize': True}           0.755136   \n",
       "1   {'fit_intercept': True, 'normalize': False}           0.755136   \n",
       "2   {'fit_intercept': False, 'normalize': True}           0.755140   \n",
       "3  {'fit_intercept': False, 'normalize': False}           0.755140   \n",
       "\n",
       "   split1_test_score  split2_test_score  split3_test_score  split4_test_score  \\\n",
       "0           0.632915           0.583230           0.509901           0.555541   \n",
       "1           0.632915           0.583230           0.509901           0.555541   \n",
       "2           0.632921           0.583249           0.509902           0.555540   \n",
       "3           0.632921           0.583249           0.509902           0.555540   \n",
       "\n",
       "   mean_test_score  std_test_score  rank_test_score  \n",
       "0         0.607345        0.083972                3  \n",
       "1         0.607345        0.083972                4  \n",
       "2         0.607351        0.083973                1  \n",
       "3         0.607351        0.083973                1  "
      ]
     },
     "execution_count": 27,
     "metadata": {},
     "output_type": "execute_result"
    }
   ],
   "source": [
    "pd.DataFrame(linear_regression_grid.cv_results_)"
   ]
  },
  {
   "cell_type": "markdown",
   "metadata": {},
   "source": [
    "# Model 1: RansacRegressor"
   ]
  },
  {
   "cell_type": "code",
   "execution_count": 28,
   "metadata": {},
   "outputs": [
    {
     "name": "stdout",
     "output_type": "stream",
     "text": [
      "RANSACRegressor with LinearRegression Score:  0.25391898368350474\n",
      "Time:  0.23281574249267578\n"
     ]
    }
   ],
   "source": [
    "start = time.time()\n",
    "\n",
    "ransac_regression = RANSACRegressor(base_estimator=LinearRegression())\n",
    "ransac_regression.fit(x_train, y_train)\n",
    "RANSACRegressorScore = ransac_regression.score(x_test, y_test)\n",
    "print(\"RANSACRegressor with LinearRegression Score: \", ransac_regression.score(x_test, y_test))\n",
    "\n",
    "end = time.time()\n",
    "ransac_regression_time = end - start\n",
    "print(\"Time: \", ransac_regression_time)"
   ]
  },
  {
   "cell_type": "code",
   "execution_count": 70,
   "metadata": {},
   "outputs": [
    {
     "name": "stdout",
     "output_type": "stream",
     "text": [
      "Best Params:  {'max_trials': 40, 'min_samples': 100, 'residual_threshold': 10}\n",
      "RANSACRegressor with LinearRegression Tune Score:  0.5821716760207105\n",
      "Time:  77.72725367546082\n"
     ]
    }
   ],
   "source": [
    "start = time.time()\n",
    "\n",
    "ransac_regression = RANSACRegressor(base_estimator=LinearRegression())\n",
    "tuned_params = [{\"min_samples\":[20, 40, 50, 60, 80, 100], \"max_trials\":[20, 40, 50, 60, 80, 100], \"residual_threshold\":[2, 4, 5, 6, 8, 10]}]\n",
    "ransac_regression_grid = GridSearchCV(ransac_regression, tuned_params)\n",
    "ransac_regression_grid.fit(x_train, y_train)\n",
    "print(\"Best Params: \", ransac_regression_grid.best_params_)\n",
    "RANSACRegressorTuneScore =  ransac_regression_grid.score(x_test, y_test)\n",
    "print(\"RANSACRegressor with LinearRegression Tune Score: \", ransac_regression_grid.score(x_test, y_test))\n",
    "\n",
    "end = time.time()\n",
    "ransac_regression_grid_time = end - start\n",
    "print(\"Time: \", ransac_regression_grid_time)"
   ]
  },
  {
   "cell_type": "markdown",
   "metadata": {},
   "source": [
    "# Model 2: Polynomial Regression"
   ]
  },
  {
   "cell_type": "markdown",
   "metadata": {},
   "source": [
    "Polynomial regression degree=2"
   ]
  },
  {
   "cell_type": "code",
   "execution_count": 30,
   "metadata": {},
   "outputs": [
    {
     "name": "stdout",
     "output_type": "stream",
     "text": [
      "Polynomial Regression Degree = 2 Score:  0.883032722996051\n",
      "Time:  0.18619966506958008\n"
     ]
    }
   ],
   "source": [
    "start = time.time()\n",
    "\n",
    "quadratic = PolynomialFeatures(degree = 2)\n",
    "X_train_regression_quadratic = quadratic.fit_transform(x_train)\n",
    "X_test_regression_quadratic = quadratic.fit_transform(x_test)\n",
    "\n",
    "linear_regression_quadratic = LinearRegression()\n",
    "linear_regression_quadratic.fit(X_train_regression_quadratic, y_train)\n",
    "PolynomialRegressionDegree2 = linear_regression_quadratic.score(X_test_regression_quadratic, y_test)\n",
    "print(\"Polynomial Regression Degree = 2 Score: \", linear_regression_quadratic.score(X_test_regression_quadratic, y_test))\n",
    "\n",
    "end = time.time()\n",
    "linear_regression_quadratic_time = end - start\n",
    "print(\"Time: \", linear_regression_quadratic_time)"
   ]
  },
  {
   "cell_type": "markdown",
   "metadata": {},
   "source": [
    "Polynomial regression degree=3"
   ]
  },
  {
   "cell_type": "code",
   "execution_count": 31,
   "metadata": {},
   "outputs": [
    {
     "name": "stdout",
     "output_type": "stream",
     "text": [
      "Polynomial Regression Degree = 3 Score:  0.6790637091725167\n",
      "Time:  0.4660606384277344\n"
     ]
    }
   ],
   "source": [
    "start = time.time()\n",
    "\n",
    "cubic = PolynomialFeatures(degree = 3)\n",
    "X_train_regression_cubic = cubic.fit_transform(x_train)\n",
    "X_test_regression_cubic = cubic.fit_transform(x_test)\n",
    "\n",
    "linear_regression_cubic = LinearRegression()\n",
    "linear_regression_cubic.fit(X_train_regression_cubic, y_train)\n",
    "PolynomialRegressionDegree3 = linear_regression_cubic.score(X_test_regression_cubic, y_test)\n",
    "print(\"Polynomial Regression Degree = 3 Score: \", linear_regression_cubic.score(X_test_regression_cubic, y_test))\n",
    "\n",
    "end = time.time()\n",
    "linear_regression_cubic_time = end - start\n",
    "print(\"Time: \", linear_regression_cubic_time)"
   ]
  },
  {
   "cell_type": "markdown",
   "metadata": {},
   "source": [
    "Polynomial regression degree=4"
   ]
  },
  {
   "cell_type": "code",
   "execution_count": 32,
   "metadata": {},
   "outputs": [
    {
     "name": "stdout",
     "output_type": "stream",
     "text": [
      "Polynomial Regression Degree = 4 Score:  -0.1825201737987845\n",
      "Time:  1.0317392349243164\n"
     ]
    }
   ],
   "source": [
    "start = time.time()\n",
    "\n",
    "degree = PolynomialFeatures(degree = 4)\n",
    "X_train_regression_degree = degree.fit_transform(x_train)\n",
    "X_test_regression_degree = degree.fit_transform(x_test)\n",
    "\n",
    "linear_regression_degree = LinearRegression()\n",
    "linear_regression_degree.fit(X_train_regression_degree, y_train)\n",
    "PolynomialRegressionDegree4 = linear_regression_degree.score(X_test_regression_degree, y_test)\n",
    "print(\"Polynomial Regression Degree = 4 Score: \", linear_regression_degree.score(X_test_regression_degree, y_test))\n",
    "\n",
    "end = time.time()\n",
    "linear_regression_degree4_time = end - start\n",
    "print(\"Time: \", linear_regression_degree4_time)"
   ]
  },
  {
   "cell_type": "markdown",
   "metadata": {},
   "source": [
    "Polynomial regression degree=5"
   ]
  },
  {
   "cell_type": "code",
   "execution_count": 33,
   "metadata": {},
   "outputs": [
    {
     "name": "stdout",
     "output_type": "stream",
     "text": [
      "Polynomial Regression Degree = 5 Score:  -2.5808222245516323\n",
      "Time:  2.211519479751587\n"
     ]
    }
   ],
   "source": [
    "start = time.time()\n",
    "\n",
    "degree = PolynomialFeatures(degree = 5)\n",
    "X_train_regression_degree = degree.fit_transform(x_train)\n",
    "X_test_regression_degree = degree.fit_transform(x_test)\n",
    "\n",
    "linear_regression_degree = LinearRegression()\n",
    "linear_regression_degree.fit(X_train_regression_degree, y_train)\n",
    "PolynomialRegressionDegree5 = linear_regression_degree.score(X_test_regression_degree, y_test)\n",
    "print(\"Polynomial Regression Degree = 5 Score: \", linear_regression_degree.score(X_test_regression_degree, y_test))\n",
    "\n",
    "end = time.time()\n",
    "linear_regression_degree5_time = end - start\n",
    "print(\"Time: \", linear_regression_degree5_time)"
   ]
  },
  {
   "cell_type": "markdown",
   "metadata": {},
   "source": [
    "# Model 3: Logistic regression"
   ]
  },
  {
   "cell_type": "code",
   "execution_count": 34,
   "metadata": {},
   "outputs": [
    {
     "name": "stdout",
     "output_type": "stream",
     "text": [
      "Logistic Regression Score:  0.8533774098235966\n",
      "\n",
      "Confusion Matrix on Logistic Regression\n",
      " [[    0    30     7     0     1     2    10     0     0]\n",
      " [    0  2133     2    23     0     0  3641     0     0]\n",
      " [    4   330     5     0     2     1   263     0     0]\n",
      " [    0     0     0  1884     0     0     0     0     0]\n",
      " [    0     0     1     0     1     0     1     0     0]\n",
      " [    2    73     6     0     1     0    24     0     0]\n",
      " [    0   547     0    38     0     0 25148     0     0]\n",
      " [    0     0     0     0     0     0     1     0     0]\n",
      " [    0     0     0     0     0     0     2     0     0]]\n",
      "Time:  13.37905240058899\n"
     ]
    },
    {
     "name": "stderr",
     "output_type": "stream",
     "text": [
      "C:\\Users\\hp\\anaconda3\\lib\\site-packages\\sklearn\\linear_model\\_logistic.py:940: ConvergenceWarning: lbfgs failed to converge (status=1):\n",
      "STOP: TOTAL NO. of ITERATIONS REACHED LIMIT.\n",
      "\n",
      "Increase the number of iterations (max_iter) or scale the data as shown in:\n",
      "    https://scikit-learn.org/stable/modules/preprocessing.html\n",
      "Please also refer to the documentation for alternative solver options:\n",
      "    https://scikit-learn.org/stable/modules/linear_model.html#logistic-regression\n",
      "  extra_warning_msg=_LOGISTIC_SOLVER_CONVERGENCE_MSG)\n"
     ]
    }
   ],
   "source": [
    "start = time.time()\n",
    "\n",
    "logistic_regression = LogisticRegression()\n",
    "logistic_regression.fit(X_train_classification, y_train_classification)\n",
    "LogisticRegressionScore = logistic_regression.score(X_test_classification, y_test_classification)\n",
    "print(\"Logistic Regression Score: \", logistic_regression.score(X_test_classification, y_test_classification))\n",
    "print(\"\\nConfusion Matrix on Logistic Regression\\n\", confusion_matrix(y_test_classification, logistic_regression.predict(X_test_classification)))\n",
    "\n",
    "end = time.time()\n",
    "logistic_regression_time = end - start\n",
    "print(\"Time: \", logistic_regression_time)"
   ]
  },
  {
   "cell_type": "code",
   "execution_count": 35,
   "metadata": {},
   "outputs": [
    {
     "name": "stderr",
     "output_type": "stream",
     "text": [
      "C:\\Users\\hp\\anaconda3\\lib\\site-packages\\sklearn\\linear_model\\_logistic.py:940: ConvergenceWarning: lbfgs failed to converge (status=1):\n",
      "STOP: TOTAL NO. of ITERATIONS REACHED LIMIT.\n",
      "\n",
      "Increase the number of iterations (max_iter) or scale the data as shown in:\n",
      "    https://scikit-learn.org/stable/modules/preprocessing.html\n",
      "Please also refer to the documentation for alternative solver options:\n",
      "    https://scikit-learn.org/stable/modules/linear_model.html#logistic-regression\n",
      "  extra_warning_msg=_LOGISTIC_SOLVER_CONVERGENCE_MSG)\n",
      "C:\\Users\\hp\\anaconda3\\lib\\site-packages\\sklearn\\linear_model\\_logistic.py:940: ConvergenceWarning: lbfgs failed to converge (status=1):\n",
      "STOP: TOTAL NO. of ITERATIONS REACHED LIMIT.\n",
      "\n",
      "Increase the number of iterations (max_iter) or scale the data as shown in:\n",
      "    https://scikit-learn.org/stable/modules/preprocessing.html\n",
      "Please also refer to the documentation for alternative solver options:\n",
      "    https://scikit-learn.org/stable/modules/linear_model.html#logistic-regression\n",
      "  extra_warning_msg=_LOGISTIC_SOLVER_CONVERGENCE_MSG)\n",
      "C:\\Users\\hp\\anaconda3\\lib\\site-packages\\sklearn\\linear_model\\_logistic.py:940: ConvergenceWarning: lbfgs failed to converge (status=1):\n",
      "STOP: TOTAL NO. of ITERATIONS REACHED LIMIT.\n",
      "\n",
      "Increase the number of iterations (max_iter) or scale the data as shown in:\n",
      "    https://scikit-learn.org/stable/modules/preprocessing.html\n",
      "Please also refer to the documentation for alternative solver options:\n",
      "    https://scikit-learn.org/stable/modules/linear_model.html#logistic-regression\n",
      "  extra_warning_msg=_LOGISTIC_SOLVER_CONVERGENCE_MSG)\n",
      "C:\\Users\\hp\\anaconda3\\lib\\site-packages\\sklearn\\linear_model\\_logistic.py:940: ConvergenceWarning: lbfgs failed to converge (status=1):\n",
      "STOP: TOTAL NO. of ITERATIONS REACHED LIMIT.\n",
      "\n",
      "Increase the number of iterations (max_iter) or scale the data as shown in:\n",
      "    https://scikit-learn.org/stable/modules/preprocessing.html\n",
      "Please also refer to the documentation for alternative solver options:\n",
      "    https://scikit-learn.org/stable/modules/linear_model.html#logistic-regression\n",
      "  extra_warning_msg=_LOGISTIC_SOLVER_CONVERGENCE_MSG)\n",
      "C:\\Users\\hp\\anaconda3\\lib\\site-packages\\sklearn\\linear_model\\_logistic.py:940: ConvergenceWarning: lbfgs failed to converge (status=1):\n",
      "STOP: TOTAL NO. of ITERATIONS REACHED LIMIT.\n",
      "\n",
      "Increase the number of iterations (max_iter) or scale the data as shown in:\n",
      "    https://scikit-learn.org/stable/modules/preprocessing.html\n",
      "Please also refer to the documentation for alternative solver options:\n",
      "    https://scikit-learn.org/stable/modules/linear_model.html#logistic-regression\n",
      "  extra_warning_msg=_LOGISTIC_SOLVER_CONVERGENCE_MSG)\n",
      "C:\\Users\\hp\\anaconda3\\lib\\site-packages\\sklearn\\linear_model\\_logistic.py:940: ConvergenceWarning: lbfgs failed to converge (status=1):\n",
      "STOP: TOTAL NO. of ITERATIONS REACHED LIMIT.\n",
      "\n",
      "Increase the number of iterations (max_iter) or scale the data as shown in:\n",
      "    https://scikit-learn.org/stable/modules/preprocessing.html\n",
      "Please also refer to the documentation for alternative solver options:\n",
      "    https://scikit-learn.org/stable/modules/linear_model.html#logistic-regression\n",
      "  extra_warning_msg=_LOGISTIC_SOLVER_CONVERGENCE_MSG)\n",
      "C:\\Users\\hp\\anaconda3\\lib\\site-packages\\sklearn\\linear_model\\_logistic.py:940: ConvergenceWarning: lbfgs failed to converge (status=1):\n",
      "STOP: TOTAL NO. of ITERATIONS REACHED LIMIT.\n",
      "\n",
      "Increase the number of iterations (max_iter) or scale the data as shown in:\n",
      "    https://scikit-learn.org/stable/modules/preprocessing.html\n",
      "Please also refer to the documentation for alternative solver options:\n",
      "    https://scikit-learn.org/stable/modules/linear_model.html#logistic-regression\n",
      "  extra_warning_msg=_LOGISTIC_SOLVER_CONVERGENCE_MSG)\n",
      "C:\\Users\\hp\\anaconda3\\lib\\site-packages\\sklearn\\linear_model\\_logistic.py:940: ConvergenceWarning: lbfgs failed to converge (status=1):\n",
      "STOP: TOTAL NO. of ITERATIONS REACHED LIMIT.\n",
      "\n",
      "Increase the number of iterations (max_iter) or scale the data as shown in:\n",
      "    https://scikit-learn.org/stable/modules/preprocessing.html\n",
      "Please also refer to the documentation for alternative solver options:\n",
      "    https://scikit-learn.org/stable/modules/linear_model.html#logistic-regression\n",
      "  extra_warning_msg=_LOGISTIC_SOLVER_CONVERGENCE_MSG)\n",
      "C:\\Users\\hp\\anaconda3\\lib\\site-packages\\sklearn\\linear_model\\_logistic.py:940: ConvergenceWarning: lbfgs failed to converge (status=1):\n",
      "STOP: TOTAL NO. of ITERATIONS REACHED LIMIT.\n",
      "\n",
      "Increase the number of iterations (max_iter) or scale the data as shown in:\n",
      "    https://scikit-learn.org/stable/modules/preprocessing.html\n",
      "Please also refer to the documentation for alternative solver options:\n",
      "    https://scikit-learn.org/stable/modules/linear_model.html#logistic-regression\n",
      "  extra_warning_msg=_LOGISTIC_SOLVER_CONVERGENCE_MSG)\n",
      "C:\\Users\\hp\\anaconda3\\lib\\site-packages\\sklearn\\linear_model\\_logistic.py:940: ConvergenceWarning: lbfgs failed to converge (status=1):\n",
      "STOP: TOTAL NO. of ITERATIONS REACHED LIMIT.\n",
      "\n",
      "Increase the number of iterations (max_iter) or scale the data as shown in:\n",
      "    https://scikit-learn.org/stable/modules/preprocessing.html\n",
      "Please also refer to the documentation for alternative solver options:\n",
      "    https://scikit-learn.org/stable/modules/linear_model.html#logistic-regression\n",
      "  extra_warning_msg=_LOGISTIC_SOLVER_CONVERGENCE_MSG)\n",
      "C:\\Users\\hp\\anaconda3\\lib\\site-packages\\sklearn\\linear_model\\_logistic.py:940: ConvergenceWarning: lbfgs failed to converge (status=1):\n",
      "STOP: TOTAL NO. of ITERATIONS REACHED LIMIT.\n",
      "\n",
      "Increase the number of iterations (max_iter) or scale the data as shown in:\n",
      "    https://scikit-learn.org/stable/modules/preprocessing.html\n",
      "Please also refer to the documentation for alternative solver options:\n",
      "    https://scikit-learn.org/stable/modules/linear_model.html#logistic-regression\n",
      "  extra_warning_msg=_LOGISTIC_SOLVER_CONVERGENCE_MSG)\n",
      "C:\\Users\\hp\\anaconda3\\lib\\site-packages\\sklearn\\linear_model\\_logistic.py:940: ConvergenceWarning: lbfgs failed to converge (status=1):\n",
      "STOP: TOTAL NO. of ITERATIONS REACHED LIMIT.\n",
      "\n",
      "Increase the number of iterations (max_iter) or scale the data as shown in:\n",
      "    https://scikit-learn.org/stable/modules/preprocessing.html\n",
      "Please also refer to the documentation for alternative solver options:\n",
      "    https://scikit-learn.org/stable/modules/linear_model.html#logistic-regression\n",
      "  extra_warning_msg=_LOGISTIC_SOLVER_CONVERGENCE_MSG)\n",
      "C:\\Users\\hp\\anaconda3\\lib\\site-packages\\sklearn\\linear_model\\_logistic.py:940: ConvergenceWarning: lbfgs failed to converge (status=1):\n",
      "STOP: TOTAL NO. of ITERATIONS REACHED LIMIT.\n",
      "\n",
      "Increase the number of iterations (max_iter) or scale the data as shown in:\n",
      "    https://scikit-learn.org/stable/modules/preprocessing.html\n",
      "Please also refer to the documentation for alternative solver options:\n",
      "    https://scikit-learn.org/stable/modules/linear_model.html#logistic-regression\n",
      "  extra_warning_msg=_LOGISTIC_SOLVER_CONVERGENCE_MSG)\n",
      "C:\\Users\\hp\\anaconda3\\lib\\site-packages\\sklearn\\linear_model\\_logistic.py:940: ConvergenceWarning: lbfgs failed to converge (status=1):\n",
      "STOP: TOTAL NO. of ITERATIONS REACHED LIMIT.\n",
      "\n",
      "Increase the number of iterations (max_iter) or scale the data as shown in:\n",
      "    https://scikit-learn.org/stable/modules/preprocessing.html\n",
      "Please also refer to the documentation for alternative solver options:\n",
      "    https://scikit-learn.org/stable/modules/linear_model.html#logistic-regression\n",
      "  extra_warning_msg=_LOGISTIC_SOLVER_CONVERGENCE_MSG)\n",
      "C:\\Users\\hp\\anaconda3\\lib\\site-packages\\sklearn\\linear_model\\_logistic.py:940: ConvergenceWarning: lbfgs failed to converge (status=1):\n",
      "STOP: TOTAL NO. of ITERATIONS REACHED LIMIT.\n",
      "\n",
      "Increase the number of iterations (max_iter) or scale the data as shown in:\n",
      "    https://scikit-learn.org/stable/modules/preprocessing.html\n",
      "Please also refer to the documentation for alternative solver options:\n",
      "    https://scikit-learn.org/stable/modules/linear_model.html#logistic-regression\n",
      "  extra_warning_msg=_LOGISTIC_SOLVER_CONVERGENCE_MSG)\n",
      "C:\\Users\\hp\\anaconda3\\lib\\site-packages\\sklearn\\linear_model\\_logistic.py:940: ConvergenceWarning: lbfgs failed to converge (status=1):\n",
      "STOP: TOTAL NO. of ITERATIONS REACHED LIMIT.\n",
      "\n",
      "Increase the number of iterations (max_iter) or scale the data as shown in:\n",
      "    https://scikit-learn.org/stable/modules/preprocessing.html\n",
      "Please also refer to the documentation for alternative solver options:\n",
      "    https://scikit-learn.org/stable/modules/linear_model.html#logistic-regression\n",
      "  extra_warning_msg=_LOGISTIC_SOLVER_CONVERGENCE_MSG)\n"
     ]
    },
    {
     "name": "stderr",
     "output_type": "stream",
     "text": [
      "C:\\Users\\hp\\anaconda3\\lib\\site-packages\\sklearn\\linear_model\\_logistic.py:940: ConvergenceWarning: lbfgs failed to converge (status=1):\n",
      "STOP: TOTAL NO. of ITERATIONS REACHED LIMIT.\n",
      "\n",
      "Increase the number of iterations (max_iter) or scale the data as shown in:\n",
      "    https://scikit-learn.org/stable/modules/preprocessing.html\n",
      "Please also refer to the documentation for alternative solver options:\n",
      "    https://scikit-learn.org/stable/modules/linear_model.html#logistic-regression\n",
      "  extra_warning_msg=_LOGISTIC_SOLVER_CONVERGENCE_MSG)\n",
      "C:\\Users\\hp\\anaconda3\\lib\\site-packages\\sklearn\\linear_model\\_logistic.py:940: ConvergenceWarning: lbfgs failed to converge (status=1):\n",
      "STOP: TOTAL NO. of ITERATIONS REACHED LIMIT.\n",
      "\n",
      "Increase the number of iterations (max_iter) or scale the data as shown in:\n",
      "    https://scikit-learn.org/stable/modules/preprocessing.html\n",
      "Please also refer to the documentation for alternative solver options:\n",
      "    https://scikit-learn.org/stable/modules/linear_model.html#logistic-regression\n",
      "  extra_warning_msg=_LOGISTIC_SOLVER_CONVERGENCE_MSG)\n",
      "C:\\Users\\hp\\anaconda3\\lib\\site-packages\\sklearn\\linear_model\\_logistic.py:940: ConvergenceWarning: lbfgs failed to converge (status=1):\n",
      "STOP: TOTAL NO. of ITERATIONS REACHED LIMIT.\n",
      "\n",
      "Increase the number of iterations (max_iter) or scale the data as shown in:\n",
      "    https://scikit-learn.org/stable/modules/preprocessing.html\n",
      "Please also refer to the documentation for alternative solver options:\n",
      "    https://scikit-learn.org/stable/modules/linear_model.html#logistic-regression\n",
      "  extra_warning_msg=_LOGISTIC_SOLVER_CONVERGENCE_MSG)\n",
      "C:\\Users\\hp\\anaconda3\\lib\\site-packages\\sklearn\\linear_model\\_logistic.py:940: ConvergenceWarning: lbfgs failed to converge (status=1):\n",
      "STOP: TOTAL NO. of ITERATIONS REACHED LIMIT.\n",
      "\n",
      "Increase the number of iterations (max_iter) or scale the data as shown in:\n",
      "    https://scikit-learn.org/stable/modules/preprocessing.html\n",
      "Please also refer to the documentation for alternative solver options:\n",
      "    https://scikit-learn.org/stable/modules/linear_model.html#logistic-regression\n",
      "  extra_warning_msg=_LOGISTIC_SOLVER_CONVERGENCE_MSG)\n",
      "C:\\Users\\hp\\anaconda3\\lib\\site-packages\\sklearn\\linear_model\\_logistic.py:940: ConvergenceWarning: lbfgs failed to converge (status=1):\n",
      "STOP: TOTAL NO. of ITERATIONS REACHED LIMIT.\n",
      "\n",
      "Increase the number of iterations (max_iter) or scale the data as shown in:\n",
      "    https://scikit-learn.org/stable/modules/preprocessing.html\n",
      "Please also refer to the documentation for alternative solver options:\n",
      "    https://scikit-learn.org/stable/modules/linear_model.html#logistic-regression\n",
      "  extra_warning_msg=_LOGISTIC_SOLVER_CONVERGENCE_MSG)\n",
      "C:\\Users\\hp\\anaconda3\\lib\\site-packages\\sklearn\\linear_model\\_logistic.py:940: ConvergenceWarning: lbfgs failed to converge (status=1):\n",
      "STOP: TOTAL NO. of ITERATIONS REACHED LIMIT.\n",
      "\n",
      "Increase the number of iterations (max_iter) or scale the data as shown in:\n",
      "    https://scikit-learn.org/stable/modules/preprocessing.html\n",
      "Please also refer to the documentation for alternative solver options:\n",
      "    https://scikit-learn.org/stable/modules/linear_model.html#logistic-regression\n",
      "  extra_warning_msg=_LOGISTIC_SOLVER_CONVERGENCE_MSG)\n",
      "C:\\Users\\hp\\anaconda3\\lib\\site-packages\\sklearn\\linear_model\\_logistic.py:940: ConvergenceWarning: lbfgs failed to converge (status=1):\n",
      "STOP: TOTAL NO. of ITERATIONS REACHED LIMIT.\n",
      "\n",
      "Increase the number of iterations (max_iter) or scale the data as shown in:\n",
      "    https://scikit-learn.org/stable/modules/preprocessing.html\n",
      "Please also refer to the documentation for alternative solver options:\n",
      "    https://scikit-learn.org/stable/modules/linear_model.html#logistic-regression\n",
      "  extra_warning_msg=_LOGISTIC_SOLVER_CONVERGENCE_MSG)\n",
      "C:\\Users\\hp\\anaconda3\\lib\\site-packages\\sklearn\\linear_model\\_logistic.py:940: ConvergenceWarning: lbfgs failed to converge (status=1):\n",
      "STOP: TOTAL NO. of ITERATIONS REACHED LIMIT.\n",
      "\n",
      "Increase the number of iterations (max_iter) or scale the data as shown in:\n",
      "    https://scikit-learn.org/stable/modules/preprocessing.html\n",
      "Please also refer to the documentation for alternative solver options:\n",
      "    https://scikit-learn.org/stable/modules/linear_model.html#logistic-regression\n",
      "  extra_warning_msg=_LOGISTIC_SOLVER_CONVERGENCE_MSG)\n",
      "C:\\Users\\hp\\anaconda3\\lib\\site-packages\\sklearn\\linear_model\\_logistic.py:940: ConvergenceWarning: lbfgs failed to converge (status=1):\n",
      "STOP: TOTAL NO. of ITERATIONS REACHED LIMIT.\n",
      "\n",
      "Increase the number of iterations (max_iter) or scale the data as shown in:\n",
      "    https://scikit-learn.org/stable/modules/preprocessing.html\n",
      "Please also refer to the documentation for alternative solver options:\n",
      "    https://scikit-learn.org/stable/modules/linear_model.html#logistic-regression\n",
      "  extra_warning_msg=_LOGISTIC_SOLVER_CONVERGENCE_MSG)\n"
     ]
    },
    {
     "name": "stdout",
     "output_type": "stream",
     "text": [
      "Best Params:  {'C': 100}\n",
      "Logistic Regression Tune Score:  0.8538454787467454\n",
      "\n",
      "Confusion Matrix on Logistic Regression Tune\n",
      " [[    1    30     9     0     0     0    10     0     0]\n",
      " [    0  2134     2    14     0     0  3649     0     0]\n",
      " [    4   330     5     0     2     1   263     0     0]\n",
      " [    0     0     0  1884     0     0     0     0     0]\n",
      " [    1     0     1     0     0     0     1     0     0]\n",
      " [    3    73     6     0     0     0    24     0     0]\n",
      " [    0   547     0    23     0     0 25163     0     0]\n",
      " [    0     0     0     0     0     0     1     0     0]\n",
      " [    0     0     0     0     0     0     2     0     0]]\n",
      "Time:  273.17330598831177\n"
     ]
    },
    {
     "name": "stderr",
     "output_type": "stream",
     "text": [
      "C:\\Users\\hp\\anaconda3\\lib\\site-packages\\sklearn\\linear_model\\_logistic.py:940: ConvergenceWarning: lbfgs failed to converge (status=1):\n",
      "STOP: TOTAL NO. of ITERATIONS REACHED LIMIT.\n",
      "\n",
      "Increase the number of iterations (max_iter) or scale the data as shown in:\n",
      "    https://scikit-learn.org/stable/modules/preprocessing.html\n",
      "Please also refer to the documentation for alternative solver options:\n",
      "    https://scikit-learn.org/stable/modules/linear_model.html#logistic-regression\n",
      "  extra_warning_msg=_LOGISTIC_SOLVER_CONVERGENCE_MSG)\n"
     ]
    }
   ],
   "source": [
    "start = time.time()\n",
    "\n",
    "logistic_regression = LogisticRegression()\n",
    "tuned_params = [{\"C\": [0.1, 1, 10, 100, 1000]}]\n",
    "logistic_regression_grid = GridSearchCV(logistic_regression, tuned_params)\n",
    "logistic_regression_grid.fit(X_train_classification, y_train_classification)\n",
    "print(\"Best Params: \", logistic_regression_grid.best_params_)\n",
    "LogisticRegressionTuneScore = logistic_regression_grid.score(X_test_classification, y_test_classification)\n",
    "print(\"Logistic Regression Tune Score: \", logistic_regression_grid.score(X_test_classification, y_test_classification))\n",
    "print(\"\\nConfusion Matrix on Logistic Regression Tune\\n\", confusion_matrix(y_test_classification, logistic_regression_grid.predict(X_test_classification)))\n",
    "\n",
    "end = time.time()\n",
    "logistic_regression_time = end - start\n",
    "print(\"Time: \", logistic_regression_time)"
   ]
  },
  {
   "cell_type": "markdown",
   "metadata": {},
   "source": [
    "# Model 4: DecisionTreeRegressor"
   ]
  },
  {
   "cell_type": "code",
   "execution_count": 36,
   "metadata": {},
   "outputs": [
    {
     "name": "stdout",
     "output_type": "stream",
     "text": [
      "DecisionTreeRegressor Score:  0.7455525152163422\n",
      "Time:  1.2571749687194824\n"
     ]
    }
   ],
   "source": [
    "start = time.time()\n",
    "\n",
    "decision_tree_regressor = DecisionTreeRegressor()\n",
    "decision_tree_regressor.fit(x_train, y_train)\n",
    "DecisionTreeRegressorScore = decision_tree_regressor.score(x_test, y_test)\n",
    "print(\"DecisionTreeRegressor Score: \", decision_tree_regressor.score(x_test, y_test))\n",
    "\n",
    "end = time.time()\n",
    "decision_tree_regressor_time = end - start\n",
    "print(\"Time: \", decision_tree_regressor_time)"
   ]
  },
  {
   "cell_type": "code",
   "execution_count": 37,
   "metadata": {},
   "outputs": [
    {
     "name": "stdout",
     "output_type": "stream",
     "text": [
      "Best Params:  {'max_depth': 20, 'min_samples_leaf': 2, 'min_samples_split': 2}\n",
      "DecisionTreeRegressor Tune Score:  0.7388776924806221\n",
      "Time:  151.18824362754822\n"
     ]
    }
   ],
   "source": [
    "start = time.time()\n",
    "\n",
    "decision_tree_regressor = DecisionTreeRegressor()\n",
    "tuned_params = [{\"max_depth\":[None, 1, 2, 3, 5, 10, 20], \"min_samples_split\":[2, 3, 5], \"min_samples_leaf\":[1, 2, 3, 5]}]\n",
    "decision_tree_regressor_grid = GridSearchCV(decision_tree_regressor, tuned_params)\n",
    "decision_tree_regressor_grid.fit(x_train, y_train)\n",
    "print(\"Best Params: \", decision_tree_regressor_grid.best_params_)\n",
    "DecisionTreeRegressorTuneScore = decision_tree_regressor_grid.score(x_test, y_test)\n",
    "print(\"DecisionTreeRegressor Tune Score: \", decision_tree_regressor_grid.score(x_test, y_test))\n",
    "\n",
    "end = time.time()\n",
    "decision_tree_regressor_grid_time = end - start\n",
    "print(\"Time: \", decision_tree_regressor_grid_time)"
   ]
  },
  {
   "cell_type": "markdown",
   "metadata": {},
   "source": [
    "# Model 5: DecisionTreeClassifier"
   ]
  },
  {
   "cell_type": "code",
   "execution_count": 38,
   "metadata": {},
   "outputs": [
    {
     "name": "stdout",
     "output_type": "stream",
     "text": [
      "DecisionTreeClassifier Score:  0.7879355235058363\n",
      "\n",
      "Confusion Matrix on DecisionTreeClassifier\n",
      " [[    3    24     6     0     0     6    11     0     0]\n",
      " [   36  2576   346     0     0    65  2776     0     0]\n",
      " [    5   299    57     0     2    19   223     0     0]\n",
      " [    0     0     0  1884     0     0     0     0     0]\n",
      " [    1     0     1     0     0     0     1     0     0]\n",
      " [    8    50    12     0     0     7    29     0     0]\n",
      " [   10  3001   285     0     0    30 22407     0     0]\n",
      " [    0     0     0     0     0     0     1     0     0]\n",
      " [    0     0     0     0     0     0     2     0     0]]\n",
      "Time:  1.2231669425964355\n"
     ]
    }
   ],
   "source": [
    "start = time.time()\n",
    "\n",
    "decision_tree_classifier = DecisionTreeClassifier()\n",
    "decision_tree_classifier.fit(X_train_classification, y_train_classification)\n",
    "DecisionTreeClassifierScore = decision_tree_classifier.score(X_test_classification, y_test_classification)\n",
    "print(\"DecisionTreeClassifier Score: \", decision_tree_classifier.score(X_test_classification, y_test_classification))\n",
    "print(\"\\nConfusion Matrix on DecisionTreeClassifier\\n\", confusion_matrix(y_test_classification, decision_tree_classifier.predict(X_test_classification)))\n",
    "\n",
    "end = time.time()\n",
    "decision_tree_classifier_time = end - start\n",
    "print(\"Time: \", decision_tree_classifier_time)"
   ]
  },
  {
   "cell_type": "code",
   "execution_count": 39,
   "metadata": {},
   "outputs": [
    {
     "name": "stdout",
     "output_type": "stream",
     "text": [
      "Best Params:  {'max_depth': 5}\n",
      "DecisionTreeClassifier Tune Score:  0.8605447152093145\n",
      "\n",
      "Confusion Matrix on DecisionTreeClassifier Tune\n",
      " [[    1    32     9     0     0     0     8     0     0]\n",
      " [    0  2389     9     0     0     0  3401     0     0]\n",
      " [    6   323    15     0     0     0   261     0     0]\n",
      " [    0     0     0  1884     0     0     0     0     0]\n",
      " [    1     0     1     0     0     0     1     0     0]\n",
      " [    3    69     8     0     0     0    26     0     0]\n",
      " [    0   606     0     0     0     0 25127     0     0]\n",
      " [    0     0     0     0     0     0     1     0     0]\n",
      " [    0     0     0     0     0     0     2     0     0]]\n",
      "Time:  13.497974872589111\n"
     ]
    }
   ],
   "source": [
    "start = time.time()\n",
    "\n",
    "decision_tree_classifier = DecisionTreeClassifier()\n",
    "tuned_params = [{\"max_depth\":[None, 1, 2, 3, 5, 10, 20]}]\n",
    "decision_tree_classifier_grid = GridSearchCV(decision_tree_classifier, tuned_params)\n",
    "decision_tree_classifier_grid.fit(X_train_classification, y_train_classification)\n",
    "print(\"Best Params: \", decision_tree_classifier_grid.best_params_)\n",
    "DecisionTreeClassifierTuneScore = decision_tree_classifier_grid.score(X_test_classification, y_test_classification)\n",
    "print(\"DecisionTreeClassifier Tune Score: \", decision_tree_classifier_grid.score(X_test_classification, y_test_classification))\n",
    "print(\"\\nConfusion Matrix on DecisionTreeClassifier Tune\\n\", confusion_matrix(y_test_classification, decision_tree_classifier_grid.predict(X_test_classification)))\n",
    "\n",
    "end = time.time()\n",
    "decision_tree_classifier_grid_time = end - start\n",
    "print(\"Time: \", decision_tree_classifier_grid_time)"
   ]
  },
  {
   "cell_type": "markdown",
   "metadata": {},
   "source": [
    "# Model 6: RandomForestRegressor"
   ]
  },
  {
   "cell_type": "code",
   "execution_count": 40,
   "metadata": {},
   "outputs": [
    {
     "name": "stdout",
     "output_type": "stream",
     "text": [
      "RandomForestRegressor Score:  0.8448897587755876\n",
      "Time:  74.5813422203064\n"
     ]
    }
   ],
   "source": [
    "start = time.time()\n",
    "\n",
    "random_forest_regressor = RandomForestRegressor()\n",
    "random_forest_regressor.fit(x_train, y_train)\n",
    "RandomForestRegressorScore = random_forest_regressor.score(x_test, y_test)\n",
    "print(\"RandomForestRegressor Score: \", random_forest_regressor.score(x_test, y_test))\n",
    "\n",
    "end = time.time()\n",
    "random_forest_regressor_time = end - start\n",
    "print(\"Time: \", random_forest_regressor_time)"
   ]
  },
  {
   "cell_type": "code",
   "execution_count": 41,
   "metadata": {},
   "outputs": [
    {
     "name": "stdout",
     "output_type": "stream",
     "text": [
      "Best Params:  {'n_estimators': 50}\n",
      "RandomForestRegressor Tune Score:  0.8140532657939497\n",
      "Time:  467.07840633392334\n"
     ]
    }
   ],
   "source": [
    "start = time.time()\n",
    "\n",
    "random_forest_regressor = RandomForestRegressor()\n",
    "tuned_params = [{\"n_estimators\":[10, 20, 30, 40, 50]}]\n",
    "random_forest_regressor_grid = GridSearchCV(random_forest_regressor, tuned_params)\n",
    "random_forest_regressor_grid.fit(x_train, y_train)\n",
    "print(\"Best Params: \", random_forest_regressor_grid.best_params_)\n",
    "RandomForestRegressorTuneScore = random_forest_regressor_grid.score(x_test, y_test)\n",
    "print(\"RandomForestRegressor Tune Score: \", random_forest_regressor_grid.score(x_test, y_test))\n",
    "\n",
    "end = time.time()\n",
    "random_forest_regressor_grid_time = end - start\n",
    "print(\"Time: \", random_forest_regressor_grid_time)"
   ]
  },
  {
   "cell_type": "markdown",
   "metadata": {},
   "source": [
    "# Model 7: RandomForestClassifier"
   ]
  },
  {
   "cell_type": "code",
   "execution_count": 42,
   "metadata": {},
   "outputs": [
    {
     "name": "stdout",
     "output_type": "stream",
     "text": [
      "RandomForestClassifier Score:  0.8575900301319369\n",
      "\n",
      "Confusion Matrix on RandomForestClassifier\n",
      " [[    0    35     5     0     0     2     8     0     0]\n",
      " [    0  2813    10     0     0     2  2974     0     0]\n",
      " [    4   365    10     0     2     1   223     0     0]\n",
      " [    0     0     0  1884     0     0     0     0     0]\n",
      " [    1     0     0     0     1     0     1     0     0]\n",
      " [    3    70     7     0     0     0    26     0     0]\n",
      " [    0  1120     5     0     0     1 24607     0     0]\n",
      " [    0     0     0     0     0     0     1     0     0]\n",
      " [    0     0     0     0     0     0     2     0     0]]\n",
      "Time:  37.11192035675049\n"
     ]
    }
   ],
   "source": [
    "start = time.time()\n",
    "\n",
    "random_forest_classifier = RandomForestClassifier()\n",
    "random_forest_classifier.fit(X_train_classification, y_train_classification)\n",
    "RandomForestClassifierScore = random_forest_classifier.score(X_test_classification, y_test_classification)\n",
    "print(\"RandomForestClassifier Score: \", random_forest_classifier.score(X_test_classification, y_test_classification))\n",
    "print(\"\\nConfusion Matrix on RandomForestClassifier\\n\", confusion_matrix(y_test_classification, random_forest_classifier.predict(X_test_classification)))\n",
    "\n",
    "end = time.time()\n",
    "random_forest_classifier_time = end - start\n",
    "print(\"Time: \", random_forest_classifier_time)"
   ]
  },
  {
   "cell_type": "code",
   "execution_count": 43,
   "metadata": {},
   "outputs": [
    {
     "name": "stdout",
     "output_type": "stream",
     "text": [
      "Best Params:  {'n_estimators': 40}\n",
      "RandomForestClassifier Tune Score:  0.856361349208671\n",
      "\n",
      "Confusion Matrix on RandomForestClassifier Tune\n",
      " [[    0    34     6     0     0     3     7     0     0]\n",
      " [    0  2856    12     0     0     4  2927     0     0]\n",
      " [    3   378    12     0     2     2   208     0     0]\n",
      " [    0     0     0  1884     0     0     0     0     0]\n",
      " [    1     1     0     0     0     0     1     0     0]\n",
      " [    2    72     7     0     0     1    24     0     0]\n",
      " [    0  1208     5     0     0     0 24520     0     0]\n",
      " [    0     0     0     0     0     0     1     0     0]\n",
      " [    0     0     0     0     0     0     2     0     0]]\n",
      "Time:  199.3690800666809\n"
     ]
    }
   ],
   "source": [
    "start = time.time()\n",
    "\n",
    "random_forest_classifier = RandomForestClassifier()\n",
    "tuned_params = [{\"n_estimators\":[10, 20, 30, 40, 50]}]\n",
    "random_forest_classifier_grid = GridSearchCV(random_forest_classifier, tuned_params)\n",
    "random_forest_classifier_grid.fit(X_train_classification, y_train_classification)\n",
    "print(\"Best Params: \", random_forest_classifier_grid.best_params_)\n",
    "RandomForestClassifierTuneScore = random_forest_classifier_grid.score(X_test_classification, y_test_classification)\n",
    "print(\"RandomForestClassifier Tune Score: \", random_forest_classifier_grid.score(X_test_classification, y_test_classification))\n",
    "print(\"\\nConfusion Matrix on RandomForestClassifier Tune\\n\", confusion_matrix(y_test_classification, random_forest_classifier_grid.predict(X_test_classification)))\n",
    "\n",
    "end = time.time()\n",
    "random_forest_classifier_grid_time = end - start\n",
    "print(\"Time: \", random_forest_classifier_grid_time)"
   ]
  },
  {
   "cell_type": "markdown",
   "metadata": {},
   "source": [
    "# Model 8: AdaBoostRegressor()"
   ]
  },
  {
   "cell_type": "code",
   "execution_count": 44,
   "metadata": {},
   "outputs": [
    {
     "name": "stdout",
     "output_type": "stream",
     "text": [
      "AdaBoostRegressor Score:  -0.10660438093242819\n",
      "Time:  5.600380897521973\n"
     ]
    }
   ],
   "source": [
    "start = time.time()\n",
    "\n",
    "ada_boost_regressor = AdaBoostRegressor()\n",
    "ada_boost_regressor.fit(x_train, y_train)\n",
    "AdaBoostRegressorScore =  ada_boost_regressor.score(x_test, y_test)\n",
    "print(\"AdaBoostRegressor Score: \", ada_boost_regressor.score(x_test, y_test))\n",
    "\n",
    "end = time.time()\n",
    "ada_boost_regressor_time = end - start\n",
    "print(\"Time: \", ada_boost_regressor_time)"
   ]
  },
  {
   "cell_type": "code",
   "execution_count": 45,
   "metadata": {},
   "outputs": [
    {
     "name": "stdout",
     "output_type": "stream",
     "text": [
      "Best Params:  {'n_estimators': 20}\n",
      "AdaBoostRegressor Tune Score:  0.706068293572049\n",
      "Time:  70.33757829666138\n"
     ]
    }
   ],
   "source": [
    "start = time.time()\n",
    "\n",
    "ada_boost_regressor = AdaBoostRegressor()\n",
    "tuned_params = [{\"n_estimators\":[10, 20, 30, 40, 50]}]\n",
    "ada_boost_regressor_grid = GridSearchCV(ada_boost_regressor, tuned_params)\n",
    "ada_boost_regressor_grid.fit(x_train, y_train)\n",
    "print(\"Best Params: \", ada_boost_regressor_grid.best_params_)\n",
    "AdaBoostRegressorTuneScore = ada_boost_regressor_grid.score(x_test, y_test)\n",
    "print(\"AdaBoostRegressor Tune Score: \", ada_boost_regressor_grid.score(x_test, y_test))\n",
    "\n",
    "end = time.time()\n",
    "ada_boost_regressor_grid_time = end - start\n",
    "print(\"Time: \", ada_boost_regressor_grid_time)"
   ]
  },
  {
   "cell_type": "markdown",
   "metadata": {},
   "source": [
    "# Model 9: AdaBoostClassifier()"
   ]
  },
  {
   "cell_type": "code",
   "execution_count": 46,
   "metadata": {},
   "outputs": [
    {
     "name": "stdout",
     "output_type": "stream",
     "text": [
      "AdaBoostClassifier Score:  0.7724892490419214\n",
      "\n",
      "Confusion Matrix on AdaBoostClassifier\n",
      " [[    0    19     3     0     1     5    22     0     0]\n",
      " [    0   617     0     0     3     0  5179     0     0]\n",
      " [    0   142     9     0     4     3   447     0     0]\n",
      " [ 1669     0     0   215     0     0     0     0     0]\n",
      " [    0     0     0     0     1     1     1     0     0]\n",
      " [    0    38     6     0     1     2    59     0     0]\n",
      " [    0    91     0     0    80     0 25562     0     0]\n",
      " [    0     0     0     0     0     0     1     0     0]\n",
      " [    0     0     0     0     0     0     2     0     0]]\n",
      "Time:  7.821686744689941\n"
     ]
    }
   ],
   "source": [
    "start = time.time()\n",
    "\n",
    "ada_boost_classifier = AdaBoostClassifier()\n",
    "ada_boost_classifier.fit(X_train_classification, y_train_classification)\n",
    "AdaBoostClassifierScore = ada_boost_classifier.score(X_test_classification, y_test_classification)\n",
    "print(\"AdaBoostClassifier Score: \", ada_boost_classifier.score(X_test_classification, y_test_classification))\n",
    "print(\"\\nConfusion Matrix on AdaBoostClassifier\\n\", confusion_matrix(y_test_classification, ada_boost_classifier.predict(X_test_classification)))\n",
    "\n",
    "end = time.time()\n",
    "ada_boost_classifier_time = end - start\n",
    "print(\"Time: \", ada_boost_classifier_time)"
   ]
  },
  {
   "cell_type": "code",
   "execution_count": 47,
   "metadata": {},
   "outputs": [
    {
     "name": "stdout",
     "output_type": "stream",
     "text": [
      "Best Params:  {'n_estimators': 20}\n",
      "AdaBoostClassifier Tune Score:  0.774537050580698\n",
      "\n",
      "Confusion Matrix on AdaBoostClassifier Tune\n",
      " [[    1    27     0     0     0     0    22     0     0]\n",
      " [    0   617     0     0     1     0  5181     0     0]\n",
      " [    1   153     0     0     4     0   447     0     0]\n",
      " [ 1669     0     0   215     0     0     0     0     0]\n",
      " [    0     1     0     0     1     0     1     0     0]\n",
      " [    2    44     0     0     1     0    59     0     0]\n",
      " [    0    91     0     0     0     0 25642     0     0]\n",
      " [    0     0     0     0     0     0     1     0     0]\n",
      " [    0     0     0     0     0     0     2     0     0]]\n",
      "Time:  79.07112240791321\n"
     ]
    }
   ],
   "source": [
    "start = time.time()\n",
    "\n",
    "ada_boost_classifier = AdaBoostClassifier()\n",
    "tuned_params = [{\"n_estimators\":[10, 20, 30, 40, 50]}]\n",
    "ada_boost_classifier_grid = GridSearchCV(ada_boost_classifier, tuned_params)\n",
    "ada_boost_classifier_grid.fit(X_train_classification, y_train_classification)\n",
    "print(\"Best Params: \", ada_boost_classifier_grid.best_params_)\n",
    "AdaBoostClassifierTuneScore = ada_boost_classifier_grid.score(X_test_classification, y_test_classification)\n",
    "print(\"AdaBoostClassifier Tune Score: \", ada_boost_classifier_grid.score(X_test_classification, y_test_classification))\n",
    "print(\"\\nConfusion Matrix on AdaBoostClassifier Tune\\n\", confusion_matrix(y_test_classification, ada_boost_classifier_grid.predict(X_test_classification)))\n",
    "\n",
    "end = time.time()\n",
    "ada_boost_classifier_grid_time = end - start\n",
    "print(\"Time: \", ada_boost_classifier_grid_time)"
   ]
  },
  {
   "cell_type": "markdown",
   "metadata": {},
   "source": [
    "# Model 10: Support Vector Machines - Linear Support Vector Regression"
   ]
  },
  {
   "cell_type": "code",
   "execution_count": 48,
   "metadata": {},
   "outputs": [
    {
     "name": "stdout",
     "output_type": "stream",
     "text": [
      "LinearSVR Score:  0.4527843719140881\n",
      "Time:  15.677706003189087\n"
     ]
    },
    {
     "name": "stderr",
     "output_type": "stream",
     "text": [
      "C:\\Users\\hp\\anaconda3\\lib\\site-packages\\sklearn\\svm\\_base.py:947: ConvergenceWarning: Liblinear failed to converge, increase the number of iterations.\n",
      "  \"the number of iterations.\", ConvergenceWarning)\n"
     ]
    }
   ],
   "source": [
    "start = time.time()\n",
    "\n",
    "linear_svr = LinearSVR()\n",
    "linear_svr.fit(x_train, y_train)\n",
    "LinearSVRScore = linear_svr.score(x_test, y_test)\n",
    "print(\"LinearSVR Score: \", linear_svr.score(x_test, y_test))\n",
    "\n",
    "end = time.time()\n",
    "linear_svr_time = end - start\n",
    "print(\"Time: \", linear_svr_time)"
   ]
  },
  {
   "cell_type": "code",
   "execution_count": 49,
   "metadata": {},
   "outputs": [
    {
     "name": "stderr",
     "output_type": "stream",
     "text": [
      "C:\\Users\\hp\\anaconda3\\lib\\site-packages\\sklearn\\svm\\_base.py:947: ConvergenceWarning: Liblinear failed to converge, increase the number of iterations.\n",
      "  \"the number of iterations.\", ConvergenceWarning)\n",
      "C:\\Users\\hp\\anaconda3\\lib\\site-packages\\sklearn\\svm\\_base.py:947: ConvergenceWarning: Liblinear failed to converge, increase the number of iterations.\n",
      "  \"the number of iterations.\", ConvergenceWarning)\n",
      "C:\\Users\\hp\\anaconda3\\lib\\site-packages\\sklearn\\svm\\_base.py:947: ConvergenceWarning: Liblinear failed to converge, increase the number of iterations.\n",
      "  \"the number of iterations.\", ConvergenceWarning)\n",
      "C:\\Users\\hp\\anaconda3\\lib\\site-packages\\sklearn\\svm\\_base.py:947: ConvergenceWarning: Liblinear failed to converge, increase the number of iterations.\n",
      "  \"the number of iterations.\", ConvergenceWarning)\n",
      "C:\\Users\\hp\\anaconda3\\lib\\site-packages\\sklearn\\svm\\_base.py:947: ConvergenceWarning: Liblinear failed to converge, increase the number of iterations.\n",
      "  \"the number of iterations.\", ConvergenceWarning)\n",
      "C:\\Users\\hp\\anaconda3\\lib\\site-packages\\sklearn\\svm\\_base.py:947: ConvergenceWarning: Liblinear failed to converge, increase the number of iterations.\n",
      "  \"the number of iterations.\", ConvergenceWarning)\n",
      "C:\\Users\\hp\\anaconda3\\lib\\site-packages\\sklearn\\svm\\_base.py:947: ConvergenceWarning: Liblinear failed to converge, increase the number of iterations.\n",
      "  \"the number of iterations.\", ConvergenceWarning)\n",
      "C:\\Users\\hp\\anaconda3\\lib\\site-packages\\sklearn\\svm\\_base.py:947: ConvergenceWarning: Liblinear failed to converge, increase the number of iterations.\n",
      "  \"the number of iterations.\", ConvergenceWarning)\n",
      "C:\\Users\\hp\\anaconda3\\lib\\site-packages\\sklearn\\svm\\_base.py:947: ConvergenceWarning: Liblinear failed to converge, increase the number of iterations.\n",
      "  \"the number of iterations.\", ConvergenceWarning)\n",
      "C:\\Users\\hp\\anaconda3\\lib\\site-packages\\sklearn\\svm\\_base.py:947: ConvergenceWarning: Liblinear failed to converge, increase the number of iterations.\n",
      "  \"the number of iterations.\", ConvergenceWarning)\n",
      "C:\\Users\\hp\\anaconda3\\lib\\site-packages\\sklearn\\svm\\_base.py:947: ConvergenceWarning: Liblinear failed to converge, increase the number of iterations.\n",
      "  \"the number of iterations.\", ConvergenceWarning)\n",
      "C:\\Users\\hp\\anaconda3\\lib\\site-packages\\sklearn\\svm\\_base.py:947: ConvergenceWarning: Liblinear failed to converge, increase the number of iterations.\n",
      "  \"the number of iterations.\", ConvergenceWarning)\n",
      "C:\\Users\\hp\\anaconda3\\lib\\site-packages\\sklearn\\svm\\_base.py:947: ConvergenceWarning: Liblinear failed to converge, increase the number of iterations.\n",
      "  \"the number of iterations.\", ConvergenceWarning)\n",
      "C:\\Users\\hp\\anaconda3\\lib\\site-packages\\sklearn\\svm\\_base.py:947: ConvergenceWarning: Liblinear failed to converge, increase the number of iterations.\n",
      "  \"the number of iterations.\", ConvergenceWarning)\n",
      "C:\\Users\\hp\\anaconda3\\lib\\site-packages\\sklearn\\svm\\_base.py:947: ConvergenceWarning: Liblinear failed to converge, increase the number of iterations.\n",
      "  \"the number of iterations.\", ConvergenceWarning)\n",
      "C:\\Users\\hp\\anaconda3\\lib\\site-packages\\sklearn\\svm\\_base.py:947: ConvergenceWarning: Liblinear failed to converge, increase the number of iterations.\n",
      "  \"the number of iterations.\", ConvergenceWarning)\n",
      "C:\\Users\\hp\\anaconda3\\lib\\site-packages\\sklearn\\svm\\_base.py:947: ConvergenceWarning: Liblinear failed to converge, increase the number of iterations.\n",
      "  \"the number of iterations.\", ConvergenceWarning)\n",
      "C:\\Users\\hp\\anaconda3\\lib\\site-packages\\sklearn\\svm\\_base.py:947: ConvergenceWarning: Liblinear failed to converge, increase the number of iterations.\n",
      "  \"the number of iterations.\", ConvergenceWarning)\n",
      "C:\\Users\\hp\\anaconda3\\lib\\site-packages\\sklearn\\svm\\_base.py:947: ConvergenceWarning: Liblinear failed to converge, increase the number of iterations.\n",
      "  \"the number of iterations.\", ConvergenceWarning)\n",
      "C:\\Users\\hp\\anaconda3\\lib\\site-packages\\sklearn\\svm\\_base.py:947: ConvergenceWarning: Liblinear failed to converge, increase the number of iterations.\n",
      "  \"the number of iterations.\", ConvergenceWarning)\n"
     ]
    },
    {
     "name": "stdout",
     "output_type": "stream",
     "text": [
      "Best Params:  {'C': 100}\n",
      "LinearSVR Tune Score:  0.424168665218972\n",
      "Time:  296.0601706504822\n"
     ]
    },
    {
     "name": "stderr",
     "output_type": "stream",
     "text": [
      "C:\\Users\\hp\\anaconda3\\lib\\site-packages\\sklearn\\svm\\_base.py:947: ConvergenceWarning: Liblinear failed to converge, increase the number of iterations.\n",
      "  \"the number of iterations.\", ConvergenceWarning)\n"
     ]
    }
   ],
   "source": [
    "start = time.time()\n",
    "\n",
    "linear_svr = LinearSVR()\n",
    "tuned_params = [{\"C\":[0.01, 0.1, 1.0, 10, 100]}]\n",
    "linear_svr_grid = GridSearchCV(linear_svr, tuned_params)\n",
    "linear_svr_grid.fit(x_train, y_train)\n",
    "print(\"Best Params: \", linear_svr_grid.best_params_)\n",
    "LinearSVRTuneScore = linear_svr_grid.score(x_test, y_test)\n",
    "print(\"LinearSVR Tune Score: \", linear_svr_grid.score(x_test, y_test))\n",
    "\n",
    "end = time.time()\n",
    "linear_svr_grid_time = end - start\n",
    "print(\"Time: \", linear_svr_grid_time)"
   ]
  },
  {
   "cell_type": "markdown",
   "metadata": {},
   "source": [
    "# Model 11 - Support Vector Machines - Linear Support Vector Classification"
   ]
  },
  {
   "cell_type": "code",
   "execution_count": 50,
   "metadata": {},
   "outputs": [
    {
     "name": "stdout",
     "output_type": "stream",
     "text": [
      "LinearSVC Score:  0.8395401222830061\n",
      "\n",
      "Confusion Matrix on LinearSVC\n",
      " [[    0    38     0     0     0     0    12     0     0]\n",
      " [    0  1409     0     7     0     0  4383     0     0]\n",
      " [    0   269     0     0     0     0   336     0     0]\n",
      " [    0     2     0  1882     0     0     0     0     0]\n",
      " [    0     2     0     0     0     0     1     0     0]\n",
      " [    0    76     0     0     0     0    30     0     0]\n",
      " [    0   313     0    13     0     0 25407     0     0]\n",
      " [    0     0     0     0     0     0     1     0     0]\n",
      " [    0     0     0     0     0     0     2     0     0]]\n",
      "Time:  83.71063470840454\n"
     ]
    },
    {
     "name": "stderr",
     "output_type": "stream",
     "text": [
      "C:\\Users\\hp\\anaconda3\\lib\\site-packages\\sklearn\\svm\\_base.py:947: ConvergenceWarning: Liblinear failed to converge, increase the number of iterations.\n",
      "  \"the number of iterations.\", ConvergenceWarning)\n"
     ]
    }
   ],
   "source": [
    "start = time.time()\n",
    "\n",
    "linear_svc = LinearSVC()\n",
    "linear_svc.fit(X_train_classification, y_train_classification)\n",
    "LinearSVCScore = linear_svc.score(X_test_classification, y_test_classification)\n",
    "print(\"LinearSVC Score: \", linear_svc.score(X_test_classification, y_test_classification))\n",
    "print(\"\\nConfusion Matrix on LinearSVC\\n\", confusion_matrix(y_test_classification, linear_svc.predict(X_test_classification)))\n",
    "\n",
    "end = time.time()\n",
    "linear_svc_time = end - start\n",
    "print(\"Time: \", linear_svc_time)"
   ]
  },
  {
   "cell_type": "code",
   "execution_count": 51,
   "metadata": {},
   "outputs": [],
   "source": [
    "# start = time.time()\n",
    "\n",
    "# linear_svc = LinearSVC()\n",
    "# tuned_params = [{\"C\":[0.01, 0.1, 1.0, 10, 100]}]\n",
    "# linear_svc_grid = GridSearchCV(linear_svc, tuned_params)\n",
    "# linear_svc_grid.fit(X_train_classification, y_train_classification)\n",
    "# print(\"Best Params: \", linear_svc_grid.best_params_)\n",
    "# print(\"LinearSVC Tune Score: \", linear_svc_grid.score(X_test_classification, y_test_classification))\n",
    "# print(\"\\nConfusion Matrix on LinearSVC Tune\\n\", confusion_matrix(y_test_classification, linear_svc_grid.predict(X_test_classification)))\n",
    "\n",
    "# end = time.time()\n",
    "# linear_svc_grid_time = end - start\n",
    "# print(\"Time: \", linear_svc_grid_time)"
   ]
  },
  {
   "cell_type": "markdown",
   "metadata": {},
   "source": [
    "# Model 12: KNeighborsRegressor"
   ]
  },
  {
   "cell_type": "code",
   "execution_count": 52,
   "metadata": {},
   "outputs": [
    {
     "name": "stdout",
     "output_type": "stream",
     "text": [
      "KNeighborsRegressor Score:  0.7799361323039862\n",
      "Time:  2.070984363555908\n"
     ]
    }
   ],
   "source": [
    "start = time.time()\n",
    "\n",
    "k_neighbors_regressor = KNeighborsRegressor()\n",
    "k_neighbors_regressor.fit(x_train, y_train)\n",
    "KNeighborsRegressorScore = k_neighbors_regressor.score(x_test, y_test)\n",
    "print(\"KNeighborsRegressor Score: \", k_neighbors_regressor.score(x_test, y_test))\n",
    "\n",
    "end = time.time()\n",
    "k_neighbors_regressor_time = end - start\n",
    "print(\"Time: \", k_neighbors_regressor_time)"
   ]
  },
  {
   "cell_type": "code",
   "execution_count": 53,
   "metadata": {},
   "outputs": [
    {
     "name": "stdout",
     "output_type": "stream",
     "text": [
      "Best Params:  {'n_neighbors': 2}\n",
      "KNeighborsRegressor Tune Score:  0.7624978461949513\n",
      "Time:  27.154025316238403\n"
     ]
    }
   ],
   "source": [
    "start = time.time()\n",
    "\n",
    "k_neighbors_regressor = KNeighborsRegressor()\n",
    "tuned_params = [{\"n_neighbors\":[2, 4, 6, 8, 10, 15]}]\n",
    "k_neighbors_regressor_grid = GridSearchCV(k_neighbors_regressor, tuned_params)\n",
    "k_neighbors_regressor_grid.fit(x_train, y_train)\n",
    "print(\"Best Params: \", k_neighbors_regressor_grid.best_params_)\n",
    "KNeighborsRegressorTuneScore = k_neighbors_regressor_grid.score(x_test, y_test)\n",
    "print(\"KNeighborsRegressor Tune Score: \", k_neighbors_regressor_grid.score(x_test, y_test))\n",
    "\n",
    "end = time.time()\n",
    "k_neighbors_regressor_grid_time = end - start\n",
    "print(\"Time: \", k_neighbors_regressor_grid_time)"
   ]
  },
  {
   "cell_type": "markdown",
   "metadata": {},
   "source": [
    "# Model 13: KNeighborsClassifier"
   ]
  },
  {
   "cell_type": "code",
   "execution_count": 54,
   "metadata": {},
   "outputs": [
    {
     "name": "stdout",
     "output_type": "stream",
     "text": [
      "KNeighborsClassifier Score:  0.8456542725916392\n",
      "\n",
      "Confusion Matrix on KNeighborsClassifier\n",
      " [[    2    32     7     0     1     0     8     0     0]\n",
      " [    6  2685    49    39     0     4  3016     0     0]\n",
      " [    4   360    16     8     2     2   213     0     0]\n",
      " [    0     3     2  1879     0     0     0     0     0]\n",
      " [    0     0     2     0     0     0     1     0     0]\n",
      " [    3    68    11     0     0     0    24     0     0]\n",
      " [    1  1352    29    24     0     2 24325     0     0]\n",
      " [    0     0     0     0     0     0     1     0     0]\n",
      " [    0     0     0     0     0     0     2     0     0]]\n",
      "Time:  7.578229665756226\n"
     ]
    }
   ],
   "source": [
    "start = time.time()\n",
    "\n",
    "k_neighbors_classifier = KNeighborsClassifier()\n",
    "k_neighbors_classifier.fit(X_train_classification, y_train_classification)\n",
    "KNeighborsClassifierScore = k_neighbors_classifier.score(X_test_classification, y_test_classification)\n",
    "print(\"KNeighborsClassifier Score: \", k_neighbors_classifier.score(X_test_classification, y_test_classification))\n",
    "print(\"\\nConfusion Matrix on KNeighborsClassifier\\n\", confusion_matrix(y_test_classification, k_neighbors_classifier.predict(X_test_classification)))\n",
    "\n",
    "end = time.time()\n",
    "k_neighbors_classifier_time = end - start\n",
    "print(\"Time: \", k_neighbors_classifier_time)"
   ]
  },
  {
   "cell_type": "code",
   "execution_count": 55,
   "metadata": {},
   "outputs": [
    {
     "name": "stdout",
     "output_type": "stream",
     "text": [
      "Best Params:  {'n_neighbors': 15}\n",
      "KNeighborsClassifier Tune Score:  0.8554252113623732\n",
      "\n",
      "Confusion Matrix on KNeighborsClassifier Tune\n",
      " [[    1    33     5     0     0     3     8     0     0]\n",
      " [    0  2597     6    47     0     0  3149     0     0]\n",
      " [    5   355    11     6     0     1   227     0     0]\n",
      " [    0     6     2  1876     0     0     0     0     0]\n",
      " [    1     0     1     0     0     0     1     0     0]\n",
      " [    3    74     6     0     0     0    23     0     0]\n",
      " [    0   925     1    50     0     1 24756     0     0]\n",
      " [    0     0     0     0     0     0     1     0     0]\n",
      " [    0     0     0     0     0     0     2     0     0]]\n",
      "Time:  59.32105302810669\n"
     ]
    }
   ],
   "source": [
    "start = time.time()\n",
    "\n",
    "k_neighbors_classifier = KNeighborsClassifier()\n",
    "tuned_params = [{\"n_neighbors\":[2, 4, 6, 8, 10, 15]}]\n",
    "k_neighbors_classifier_grid = GridSearchCV(k_neighbors_classifier, tuned_params)\n",
    "k_neighbors_classifier_grid.fit(X_train_classification, y_train_classification)\n",
    "print(\"Best Params: \", k_neighbors_classifier_grid.best_params_)\n",
    "KNeighborsClassifierTuneScore =  k_neighbors_classifier_grid.score(X_test_classification, y_test_classification)\n",
    "print(\"KNeighborsClassifier Tune Score: \", k_neighbors_classifier_grid.score(X_test_classification, y_test_classification))\n",
    "print(\"\\nConfusion Matrix on KNeighborsClassifier Tune\\n\", confusion_matrix(y_test_classification, k_neighbors_classifier_grid.predict(X_test_classification)))\n",
    "\n",
    "end = time.time()\n",
    "k_neighbors_classifier_grid_time = end - start\n",
    "print(\"Time: \", k_neighbors_classifier_grid_time)"
   ]
  },
  {
   "cell_type": "markdown",
   "metadata": {},
   "source": [
    "# Model 14:  MLPRegressor"
   ]
  },
  {
   "cell_type": "code",
   "execution_count": 56,
   "metadata": {},
   "outputs": [
    {
     "name": "stdout",
     "output_type": "stream",
     "text": [
      "MLPRegressor Default Score:  0.8663191414661886\n",
      "Time:  24.33216118812561\n"
     ]
    }
   ],
   "source": [
    "start = time.time()\n",
    "\n",
    "mlp_regressor = MLPRegressor()\n",
    "mlp_regressor.fit(x_train, y_train)\n",
    "MLPRegressorDefaultScore = mlp_regressor.score(x_test, y_test)\n",
    "print(\"MLPRegressor Default Score: \", mlp_regressor.score(x_test, y_test))\n",
    "\n",
    "end = time.time()\n",
    "mlp_regressor_time = end - start\n",
    "print(\"Time: \", mlp_regressor_time)"
   ]
  },
  {
   "cell_type": "code",
   "execution_count": 57,
   "metadata": {},
   "outputs": [
    {
     "name": "stdout",
     "output_type": "stream",
     "text": [
      "MLPRegressor Architecture 1 (50, 30, 20) Score:  0.8077804304297087\n",
      "Time:  73.09368181228638\n"
     ]
    }
   ],
   "source": [
    "start = time.time()\n",
    "\n",
    "mlp_regressor_architecture_1 = MLPRegressor(hidden_layer_sizes=(50, 30, 20))\n",
    "mlp_regressor_architecture_1.fit(x_train, y_train)\n",
    "MLPRegressor1 = mlp_regressor_architecture_1.score(x_test, y_test)\n",
    "print(\"MLPRegressor Architecture 1 (50, 30, 20) Score: \", mlp_regressor_architecture_1.score(x_test, y_test))\n",
    "\n",
    "end = time.time()\n",
    "mlp_regressor_architecture_1_time = end - start\n",
    "print(\"Time: \", mlp_regressor_architecture_1_time)"
   ]
  },
  {
   "cell_type": "code",
   "execution_count": 58,
   "metadata": {},
   "outputs": [
    {
     "name": "stdout",
     "output_type": "stream",
     "text": [
      "MLPRegressor Architecture 2 (20, 30, 50) Score:  0.8622968548984106\n",
      "Time:  84.84848189353943\n"
     ]
    }
   ],
   "source": [
    "start = time.time()\n",
    "\n",
    "mlp_regressor_architecture_2 = MLPRegressor(hidden_layer_sizes=(20, 30, 50))\n",
    "mlp_regressor_architecture_2.fit(x_train, y_train)\n",
    "MLPRegressor2 = mlp_regressor_architecture_2.score(x_test, y_test)\n",
    "print(\"MLPRegressor Architecture 2 (20, 30, 50) Score: \", mlp_regressor_architecture_2.score(x_test, y_test))\n",
    "\n",
    "end = time.time()\n",
    "mlp_regressor_architecture_2_time = end - start\n",
    "print(\"Time: \", mlp_regressor_architecture_2_time)"
   ]
  },
  {
   "cell_type": "code",
   "execution_count": 59,
   "metadata": {},
   "outputs": [
    {
     "name": "stdout",
     "output_type": "stream",
     "text": [
      "MLPRegressor Architecture 3 (30, 50, 30) Score:  0.8421800728053757\n",
      "Time:  80.30050754547119\n"
     ]
    }
   ],
   "source": [
    "start = time.time()\n",
    "\n",
    "mlp_regressor_architecture_3 = MLPRegressor(hidden_layer_sizes=(30, 50, 30))\n",
    "mlp_regressor_architecture_3.fit(x_train, y_train)\n",
    "MLPRegressor3 = mlp_regressor_architecture_3.score(x_test, y_test)\n",
    "print(\"MLPRegressor Architecture 3 (30, 50, 30) Score: \", mlp_regressor_architecture_3.score(x_test, y_test))\n",
    "\n",
    "end = time.time()\n",
    "mlp_regressor_architecture_3_time = end - start\n",
    "print(\"Time: \", mlp_regressor_architecture_3_time)"
   ]
  },
  {
   "cell_type": "code",
   "execution_count": 60,
   "metadata": {},
   "outputs": [
    {
     "name": "stdout",
     "output_type": "stream",
     "text": [
      "MLPRegressor Architecture 4 (1000, ) Score:  0.8556295176600239\n",
      "Time:  382.5641174316406\n"
     ]
    }
   ],
   "source": [
    "start = time.time()\n",
    "\n",
    "mlp_regressor_architecture_4 = MLPRegressor(hidden_layer_sizes=(1000, ))\n",
    "mlp_regressor_architecture_4.fit(x_train, y_train)\n",
    "MLPRegressor4 = mlp_regressor_architecture_4.score(x_test, y_test)\n",
    "print(\"MLPRegressor Architecture 4 (1000, ) Score: \", mlp_regressor_architecture_4.score(x_test, y_test))\n",
    "\n",
    "end = time.time()\n",
    "mlp_regressor_architecture_4_time = end - start\n",
    "print(\"Time: \", mlp_regressor_architecture_4_time)"
   ]
  },
  {
   "cell_type": "code",
   "execution_count": 61,
   "metadata": {},
   "outputs": [
    {
     "name": "stdout",
     "output_type": "stream",
     "text": [
      "MLPRegressor Architecture 5 (100, 100) Score:  0.8703931083968017\n",
      "Time:  145.48222827911377\n"
     ]
    }
   ],
   "source": [
    "start = time.time()\n",
    "\n",
    "mlp_regressor_architecture_5 = MLPRegressor(hidden_layer_sizes=(100, 100))\n",
    "mlp_regressor_architecture_5.fit(x_train, y_train)\n",
    "MLPRegressor5 = mlp_regressor_architecture_5.score(x_test, y_test)\n",
    "print(\"MLPRegressor Architecture 5 (100, 100) Score: \", mlp_regressor_architecture_5.score(x_test, y_test))\n",
    "\n",
    "end = time.time()\n",
    "mlp_regressor_architecture_5_time = end - start\n",
    "print(\"Time: \", mlp_regressor_architecture_5_time)"
   ]
  },
  {
   "cell_type": "markdown",
   "metadata": {},
   "source": [
    "# Model 15: MLPClassifier"
   ]
  },
  {
   "cell_type": "code",
   "execution_count": 62,
   "metadata": {},
   "outputs": [
    {
     "name": "stdout",
     "output_type": "stream",
     "text": [
      "MLPClassifier Default Score:  0.8609250212093731\n",
      "\n",
      "Confusion Matrix on MLPClassifier Default\n",
      " [[    1    34     8     0     0     0     7     0     0]\n",
      " [    0  2882     5     2     0     0  2910     0     0]\n",
      " [    3   369    11     0     2     1   219     0     0]\n",
      " [    0     0     0  1884     0     0     0     0     0]\n",
      " [    1     0     1     0     0     0     1     0     0]\n",
      " [    4    74     5     0     0     0    23     0     0]\n",
      " [    0  1074     1     7     0     0 24651     0     0]\n",
      " [    0     0     0     0     0     0     1     0     0]\n",
      " [    0     0     0     0     0     0     2     0     0]]\n",
      "Time:  160.70826816558838\n"
     ]
    }
   ],
   "source": [
    "start = time.time()\n",
    "\n",
    "mlp_classifier = MLPClassifier()\n",
    "mlp_classifier.fit(X_train_classification, y_train_classification)\n",
    "MLPClassifierDefaultScore = mlp_classifier.score(X_test_classification, y_test_classification)\n",
    "print(\"MLPClassifier Default Score: \", mlp_classifier.score(X_test_classification, y_test_classification))\n",
    "print(\"\\nConfusion Matrix on MLPClassifier Default\\n\", confusion_matrix(y_test_classification, mlp_classifier.predict(X_test_classification)))\n",
    "\n",
    "end = time.time()\n",
    "mlp_classifier_time = end - start\n",
    "print(\"Time: \", mlp_classifier_time)"
   ]
  },
  {
   "cell_type": "code",
   "execution_count": 63,
   "metadata": {},
   "outputs": [
    {
     "name": "stdout",
     "output_type": "stream",
     "text": [
      "MLPClassifier Architecture 1 (50, 30, 20) Score:  0.8620659392095487\n",
      "\n",
      "Confusion Matrix on MLPClassifier Architecture 1 (50, 30, 20)\n",
      " [[    0    34     8     0     1     1     6     0     0]\n",
      " [    0  2927    10     1     0     1  2860     0     0]\n",
      " [    1   380    20     1     2     2   199     0     0]\n",
      " [    0     0     0  1884     0     0     0     0     0]\n",
      " [    0     0     2     0     0     0     1     0     0]\n",
      " [    3    73     8     0     0     0    22     0     0]\n",
      " [    0  1091     2     3     0     0 24637     0     0]\n",
      " [    0     0     0     0     0     0     1     0     0]\n",
      " [    0     0     0     0     0     0     2     0     0]]\n",
      "Time:  346.5629119873047\n"
     ]
    }
   ],
   "source": [
    "start = time.time()\n",
    "\n",
    "mlp_classifier_architecture_1 = MLPClassifier(hidden_layer_sizes=(50, 30, 20))\n",
    "mlp_classifier_architecture_1.fit(X_train_classification, y_train_classification)\n",
    "MLPClassifier1 = mlp_classifier_architecture_1.score(X_test_classification, y_test_classification)\n",
    "print(\"MLPClassifier Architecture 1 (50, 30, 20) Score: \", mlp_classifier_architecture_1.score(X_test_classification, y_test_classification))\n",
    "print(\"\\nConfusion Matrix on MLPClassifier Architecture 1 (50, 30, 20)\\n\", confusion_matrix(y_test_classification, mlp_classifier_architecture_1.predict(X_test_classification)))\n",
    "\n",
    "end = time.time()\n",
    "mlp_classifier_architecture_1_time = end - start\n",
    "print(\"Time: \", mlp_classifier_architecture_1_time)"
   ]
  },
  {
   "cell_type": "code",
   "execution_count": 64,
   "metadata": {},
   "outputs": [
    {
     "name": "stdout",
     "output_type": "stream",
     "text": [
      "MLPClassifier Architecture 2 (20, 30, 50) Score:  0.8615686159787028\n",
      "\n",
      "Confusion Matrix on MLPClassifier Architecture 2 (20, 30, 50)\n",
      " [[    1    35     3     0     0     4     7     0     0]\n",
      " [    0  2850     2     4     0     0  2943     0     0]\n",
      " [    5   365     8     0     0     1   226     0     0]\n",
      " [    0     0     0  1884     0     0     0     0     0]\n",
      " [    1     0     1     0     0     0     1     0     0]\n",
      " [    3    74     5     0     0     1    23     0     0]\n",
      " [    0  1023     0     3     0     0 24707     0     0]\n",
      " [    0     0     0     0     0     0     1     0     0]\n",
      " [    0     0     0     0     0     0     2     0     0]]\n",
      "Time:  195.6533875465393\n"
     ]
    }
   ],
   "source": [
    "start = time.time()\n",
    "\n",
    "mlp_classifier_architecture_2 = MLPClassifier(hidden_layer_sizes=(20, 30, 50))\n",
    "mlp_classifier_architecture_2.fit(X_train_classification, y_train_classification)\n",
    "MLPClassifier2 = mlp_classifier_architecture_2.score(X_test_classification, y_test_classification)\n",
    "print(\"MLPClassifier Architecture 2 (20, 30, 50) Score: \", mlp_classifier_architecture_2.score(X_test_classification, y_test_classification))\n",
    "print(\"\\nConfusion Matrix on MLPClassifier Architecture 2 (20, 30, 50)\\n\", confusion_matrix(y_test_classification, mlp_classifier_architecture_2.predict(X_test_classification)))\n",
    "\n",
    "end = time.time()\n",
    "mlp_classifier_architecture_2_time = end - start\n",
    "print(\"Time: \", mlp_classifier_architecture_2_time)"
   ]
  },
  {
   "cell_type": "code",
   "execution_count": 65,
   "metadata": {},
   "outputs": [
    {
     "name": "stdout",
     "output_type": "stream",
     "text": [
      "MLPClassifier Architecture 3 (30, 50, 30) Score:  0.8620659392095487\n",
      "\n",
      "Confusion Matrix on MLPClassifier Architecture 3 (30, 50, 30)\n",
      " [[    1    33     7     0     0     1     8     0     0]\n",
      " [    0  2782    11     1     0     1  3004     0     0]\n",
      " [    1   346    15     0     3     1   239     0     0]\n",
      " [    0     0     0  1884     0     0     0     0     0]\n",
      " [    0     0     1     0     1     0     1     0     0]\n",
      " [    3    73     7     0     0     0    23     0     0]\n",
      " [    0   946     0     2     0     0 24785     0     0]\n",
      " [    0     0     0     0     0     0     1     0     0]\n",
      " [    0     0     0     0     0     0     2     0     0]]\n",
      "Time:  394.3287842273712\n"
     ]
    }
   ],
   "source": [
    "start = time.time()\n",
    "\n",
    "mlp_classifier_architecture_3 = MLPClassifier(hidden_layer_sizes=(30, 50, 30))\n",
    "mlp_classifier_architecture_3.fit(X_train_classification, y_train_classification)\n",
    "MLPClassifier3 = mlp_classifier_architecture_3.score(X_test_classification, y_test_classification)\n",
    "print(\"MLPClassifier Architecture 3 (30, 50, 30) Score: \", mlp_classifier_architecture_3.score(X_test_classification, y_test_classification))\n",
    "print(\"\\nConfusion Matrix on MLPClassifier Architecture 3 (30, 50, 30)\\n\", confusion_matrix(y_test_classification, mlp_classifier_architecture_3.predict(X_test_classification)))\n",
    "\n",
    "end = time.time()\n",
    "mlp_classifier_architecture_3_time = end - start\n",
    "print(\"Time: \", mlp_classifier_architecture_3_time)"
   ]
  },
  {
   "cell_type": "code",
   "execution_count": 66,
   "metadata": {},
   "outputs": [
    {
     "name": "stdout",
     "output_type": "stream",
     "text": [
      "MLPClassifier Architecture 4 (1000, ) Score:  0.8614808530556124\n",
      "\n",
      "Confusion Matrix on MLPClassifier Architecture 4 (1000, )\n",
      " [[    1    34     4     0     0     3     8     0     0]\n",
      " [    0  2764     2     2     0     2  3029     0     0]\n",
      " [    0   354     9     0     2     1   239     0     0]\n",
      " [    0     0     1  1883     0     0     0     0     0]\n",
      " [    0     0     2     0     0     0     1     0     0]\n",
      " [    1    71     8     0     0     0    26     0     0]\n",
      " [    0   933     1     8     0     0 24791     0     0]\n",
      " [    0     0     0     0     0     0     1     0     0]\n",
      " [    0     0     0     0     0     0     2     0     0]]\n",
      "Time:  1243.8889174461365\n"
     ]
    }
   ],
   "source": [
    "start = time.time()\n",
    "\n",
    "mlp_classifier_architecture_4 = MLPClassifier(hidden_layer_sizes=(1000, ))\n",
    "mlp_classifier_architecture_4.fit(X_train_classification, y_train_classification)\n",
    "MLPClassifier4 = mlp_classifier_architecture_4.score(X_test_classification, y_test_classification)\n",
    "print(\"MLPClassifier Architecture 4 (1000, ) Score: \", mlp_classifier_architecture_4.score(X_test_classification, y_test_classification))\n",
    "print(\"\\nConfusion Matrix on MLPClassifier Architecture 4 (1000, )\\n\", confusion_matrix(y_test_classification, mlp_classifier_architecture_4.predict(X_test_classification)))\n",
    "\n",
    "end = time.time()\n",
    "mlp_classifier_architecture_4_time = end - start\n",
    "print(\"Time: \", mlp_classifier_architecture_4_time)"
   ]
  },
  {
   "cell_type": "code",
   "execution_count": 69,
   "metadata": {},
   "outputs": [
    {
     "name": "stderr",
     "output_type": "stream",
     "text": [
      "C:\\Users\\hp\\anaconda3\\lib\\site-packages\\sklearn\\neural_network\\_multilayer_perceptron.py:571: ConvergenceWarning: Stochastic Optimizer: Maximum iterations (200) reached and the optimization hasn't converged yet.\n",
      "  % self.max_iter, ConvergenceWarning)\n"
     ]
    },
    {
     "name": "stdout",
     "output_type": "stream",
     "text": [
      "MLPClassifier Architecture 5 (100, 100) Score:  0.8603691893631337\n",
      "\n",
      "Confusion Matrix on MLPClassifier Architecture 5 (100, 100)\n",
      " [[    3    32     4     0     0     1    10     0     0]\n",
      " [    0  2745     8     1     0     4  3041     0     0]\n",
      " [    5   361     7     0     2     1   229     0     0]\n",
      " [    0     0     0  1884     0     0     0     0     0]\n",
      " [    1     0     1     0     0     0     1     0     0]\n",
      " [    6    71     5     0     0     0    24     0     0]\n",
      " [    0   952     2     5     0     3 24771     0     0]\n",
      " [    0     0     0     0     0     0     1     0     0]\n",
      " [    0     0     0     0     0     0     2     0     0]]\n",
      "Time:  667.6862003803253\n"
     ]
    }
   ],
   "source": [
    "start = time.time()\n",
    "\n",
    "mlp_classifier_architecture_5 = MLPClassifier(hidden_layer_sizes=(100, 100))\n",
    "mlp_classifier_architecture_5.fit(X_train_classification, y_train_classification)\n",
    "MLPClassifier5 = mlp_classifier_architecture_5.score(X_test_classification, y_test_classification)\n",
    "print(\"MLPClassifier Architecture 5 (100, 100) Score: \", mlp_classifier_architecture_5.score(X_test_classification, y_test_classification))\n",
    "print(\"\\nConfusion Matrix on MLPClassifier Architecture 5 (100, 100)\\n\", confusion_matrix(y_test_classification, mlp_classifier_architecture_5.predict(X_test_classification)))\n",
    "\n",
    "end = time.time()\n",
    "mlp_classifier_architecture_5_time = end - start\n",
    "print(\"Time: \", mlp_classifier_architecture_5_time)"
   ]
  },
  {
   "cell_type": "markdown",
   "metadata": {},
   "source": [
    "#  I will compare the models and choose the simplest and workable model"
   ]
  },
  {
   "cell_type": "markdown",
   "metadata": {},
   "source": [
    "# For Regression"
   ]
  },
  {
   "cell_type": "code",
   "execution_count": 71,
   "metadata": {},
   "outputs": [
    {
     "name": "stdout",
     "output_type": "stream",
     "text": [
      "LinearRegression Score:  0.7315722793851589\n",
      "Time:  0.03572535514831543\n",
      "\n",
      "\n",
      "LinearRegression Tune Score:  0.731573563558918\n",
      "Time:  0.722161054611206\n",
      "\n",
      "_______________________________\n",
      "\n",
      "RANSACRegressor with LinearRegression Score:  0.25391898368350474\n",
      "Time:  0.23281574249267578\n",
      "\n",
      "\n",
      "RANSACRegressor with LinearRegression Tune Score:  0.5821716760207105\n",
      "Time:  77.72725367546082\n",
      "\n",
      "_______________________________\n",
      "\n",
      "Polynomial Regression Degree = 2 Score:  0.883032722996051\n",
      "Time:  0.18619966506958008\n",
      "\n",
      "\n",
      "Polynomial Regression Degree = 3 Score:  0.6790637091725167\n",
      "Time:  0.4660606384277344\n",
      "\n",
      "\n",
      "Polynomial Regression Degree = 4 Score:  -0.1825201737987845\n",
      "Time:  1.0317392349243164\n",
      "\n",
      "\n",
      "Polynomial Regression Degree = 5 Score:  -2.5808222245516323\n",
      "Time:  2.211519479751587\n",
      "\n",
      "_______________________________\n",
      "\n",
      "DecisionTreeRegressor Score:  0.7455525152163422\n",
      "Time:  1.2571749687194824\n",
      "\n",
      "\n",
      "DecisionTreeRegressor Tune Score:  0.7388776924806221\n",
      "Time:  151.18824362754822\n",
      "\n",
      "_______________________________\n",
      "\n",
      "RandomForestRegressor Score:  0.8448897587755876\n",
      "Time:  74.5813422203064\n",
      "\n",
      "\n",
      "RandomForestRegressor Tune Score:  0.8140532657939497\n",
      "Time:  467.07840633392334\n",
      "\n",
      "_______________________________\n",
      "\n",
      "AdaBoostRegressor Score:  -0.10660438093242819\n",
      "Time:  5.600380897521973\n",
      "\n",
      "\n",
      "AdaBoostRegressor Tune Score:  0.706068293572049\n",
      "Time:  70.33757829666138\n",
      "\n",
      "_______________________________\n",
      "\n",
      "LinearSVR Score:  0.4527843719140881\n",
      "Time:  15.677706003189087\n",
      "\n",
      "\n",
      "LinearSVR Tune Score:  0.424168665218972\n",
      "Time:  296.0601706504822\n",
      "\n",
      "_______________________________\n",
      "\n",
      "KNeighborsRegressor Score:  0.7799361323039862\n",
      "Time:  2.070984363555908\n",
      "\n",
      "\n",
      "KNeighborsRegressor Tune Score:  0.7624978461949513\n",
      "Time:  27.154025316238403\n",
      "\n",
      "_______________________________\n",
      "\n",
      "MLPRegressor Default Score:  0.8663191414661886\n",
      "Time:  24.33216118812561\n",
      "\n",
      "\n",
      "MLPRegressor Architecture 1 (50, 30, 20) Score:  0.8077804304297087\n",
      "Time:  73.09368181228638\n",
      "\n",
      "\n",
      "MLPRegressor Architecture 2 (20, 30, 50) Score:  0.8622968548984106\n",
      "Time:  84.84848189353943\n",
      "\n",
      "\n",
      "MLPRegressor Architecture 3 (30, 50, 30) Score:  0.8421800728053757\n",
      "Time:  80.30050754547119\n",
      "\n",
      "\n",
      "MLPRegressor Architecture 4 (1000, ) Score:  0.8556295176600239\n",
      "Time:  382.5641174316406\n",
      "\n",
      "\n",
      "MLPRegressor Architecture 5 (100, 100) Score:  0.8703931083968017\n",
      "Time:  145.48222827911377\n"
     ]
    }
   ],
   "source": [
    "print(\"LinearRegression Score: \",LinearRegressionScore )\n",
    "print(\"Time: \", linear_regression_time)\n",
    "\n",
    "print(\"\\n\")\n",
    "\n",
    "print(\"LinearRegression Tune Score: \", LinearRegressionTuneScore)\n",
    "print(\"Time: \", linear_regression_grid_time)\n",
    "\n",
    "print(\"\\n_______________________________\\n\")\n",
    "\n",
    "print(\"RANSACRegressor with LinearRegression Score: \", RANSACRegressorScore )\n",
    "print(\"Time: \", ransac_regression_time)\n",
    "\n",
    "print(\"\\n\")\n",
    "\n",
    "print(\"RANSACRegressor with LinearRegression Tune Score: \", RANSACRegressorTuneScore)\n",
    "print(\"Time: \", ransac_regression_grid_time)\n",
    "\n",
    "print(\"\\n_______________________________\\n\")\n",
    "\n",
    "print(\"Polynomial Regression Degree = 2 Score: \", PolynomialRegressionDegree2)\n",
    "print(\"Time: \", linear_regression_quadratic_time)\n",
    "\n",
    "print(\"\\n\")\n",
    "\n",
    "print(\"Polynomial Regression Degree = 3 Score: \", PolynomialRegressionDegree3)\n",
    "print(\"Time: \", linear_regression_cubic_time)\n",
    "\n",
    "print(\"\\n\")\n",
    "\n",
    "print(\"Polynomial Regression Degree = 4 Score: \", PolynomialRegressionDegree4)\n",
    "print(\"Time: \", linear_regression_degree4_time)\n",
    "\n",
    "print(\"\\n\")\n",
    "\n",
    "print(\"Polynomial Regression Degree = 5 Score: \", PolynomialRegressionDegree5)\n",
    "print(\"Time: \", linear_regression_degree5_time)\n",
    "\n",
    "print(\"\\n_______________________________\\n\")\n",
    "\n",
    "print(\"DecisionTreeRegressor Score: \", DecisionTreeRegressorScore)\n",
    "print(\"Time: \", decision_tree_regressor_time)\n",
    "\n",
    "print(\"\\n\")\n",
    "\n",
    "print(\"DecisionTreeRegressor Tune Score: \", DecisionTreeRegressorTuneScore)\n",
    "print(\"Time: \", decision_tree_regressor_grid_time)\n",
    "\n",
    "print(\"\\n_______________________________\\n\")\n",
    "\n",
    "print(\"RandomForestRegressor Score: \", RandomForestRegressorScore)\n",
    "print(\"Time: \", random_forest_regressor_time)\n",
    "\n",
    "print(\"\\n\")\n",
    "\n",
    "print(\"RandomForestRegressor Tune Score: \", RandomForestRegressorTuneScore)\n",
    "print(\"Time: \", random_forest_regressor_grid_time)\n",
    "\n",
    "print(\"\\n_______________________________\\n\")\n",
    "\n",
    "print(\"AdaBoostRegressor Score: \", AdaBoostRegressorScore)\n",
    "print(\"Time: \", ada_boost_regressor_time)\n",
    "\n",
    "print(\"\\n\")\n",
    "\n",
    "print(\"AdaBoostRegressor Tune Score: \", AdaBoostRegressorTuneScore)\n",
    "print(\"Time: \", ada_boost_regressor_grid_time)\n",
    "\n",
    "print(\"\\n_______________________________\\n\")\n",
    "\n",
    "print(\"LinearSVR Score: \", LinearSVRScore)\n",
    "print(\"Time: \", linear_svr_time)\n",
    "\n",
    "print(\"\\n\")\n",
    "\n",
    "print(\"LinearSVR Tune Score: \", LinearSVRTuneScore)\n",
    "print(\"Time: \", linear_svr_grid_time)\n",
    "\n",
    "print(\"\\n_______________________________\\n\")\n",
    "\n",
    "print(\"KNeighborsRegressor Score: \", KNeighborsRegressorScore)\n",
    "print(\"Time: \", k_neighbors_regressor_time)\n",
    "\n",
    "print(\"\\n\")\n",
    "\n",
    "print(\"KNeighborsRegressor Tune Score: \", KNeighborsRegressorTuneScore)\n",
    "print(\"Time: \", k_neighbors_regressor_grid_time)\n",
    "\n",
    "print(\"\\n_______________________________\\n\")\n",
    "\n",
    "print(\"MLPRegressor Default Score: \", MLPRegressorDefaultScore)\n",
    "print(\"Time: \", mlp_regressor_time)\n",
    "\n",
    "print(\"\\n\")\n",
    "\n",
    "print(\"MLPRegressor Architecture 1 (50, 30, 20) Score: \", MLPRegressor1)\n",
    "print(\"Time: \", mlp_regressor_architecture_1_time)\n",
    "\n",
    "print(\"\\n\")\n",
    "\n",
    "print(\"MLPRegressor Architecture 2 (20, 30, 50) Score: \", MLPRegressor2)\n",
    "print(\"Time: \", mlp_regressor_architecture_2_time)\n",
    "\n",
    "print(\"\\n\")\n",
    "\n",
    "print(\"MLPRegressor Architecture 3 (30, 50, 30) Score: \", MLPRegressor3)\n",
    "print(\"Time: \", mlp_regressor_architecture_3_time)\n",
    "\n",
    "print(\"\\n\")\n",
    "\n",
    "print(\"MLPRegressor Architecture 4 (1000, ) Score: \", MLPRegressor4)\n",
    "print(\"Time: \", mlp_regressor_architecture_4_time)\n",
    "\n",
    "print(\"\\n\")\n",
    "\n",
    "print(\"MLPRegressor Architecture 5 (100, 100) Score: \", MLPRegressor5)\n",
    "print(\"Time: \", mlp_regressor_architecture_5_time)"
   ]
  },
  {
   "cell_type": "markdown",
   "metadata": {},
   "source": [
    "# For Regression"
   ]
  },
  {
   "cell_type": "code",
   "execution_count": 75,
   "metadata": {
    "scrolled": false
   },
   "outputs": [
    {
     "name": "stdout",
     "output_type": "stream",
     "text": [
      "Logistic Regression Score:  0.8533774098235966\n",
      "Time:  273.17330598831177\n",
      "\n",
      "\n",
      "Logistic Regression Tune Score:  0.8538454787467454\n",
      "Time:  273.17330598831177\n",
      "\n",
      "_______________________________\n",
      "\n",
      "DecisionTreeClassifier Score:  0.7879355235058363\n",
      "Time:  1.2231669425964355\n",
      "\n",
      "\n",
      "DecisionTreeClassifier Tune Score:  0.8605447152093145\n",
      "Time:  13.497974872589111\n",
      "\n",
      "_______________________________\n",
      "\n",
      "RandomForestClassifier Score:  0.8575900301319369\n",
      "Time:  37.11192035675049\n",
      "\n",
      "\n",
      "RandomForestClassifier Tune Score:  0.856361349208671\n",
      "Time:  199.3690800666809\n",
      "\n",
      "_______________________________\n",
      "\n",
      "AdaBoostClassifier Score:  0.7724892490419214\n",
      "Time:  7.821686744689941\n",
      "\n",
      "\n",
      "AdaBoostClassifier Tune Score:  0.774537050580698\n",
      "Time:  79.07112240791321\n",
      "\n",
      "_______________________________\n",
      "\n",
      "LinearSVC Score:  0.8395401222830061\n",
      "Time:  83.71063470840454\n",
      "\n",
      "_______________________________\n",
      "\n",
      "KNeighborsClassifier Score:  0.8456542725916392\n",
      "Time:  7.578229665756226\n",
      "\n",
      "\n",
      "KNeighborsClassifier Tune Score:  0.8554252113623732\n",
      "Time:  59.32105302810669\n",
      "\n",
      "_______________________________\n",
      "\n",
      "MLPClassifier Default Score:  0.8609250212093731\n",
      "Time:  160.70826816558838\n",
      "\n",
      "\n",
      "MLPClassifier Architecture 1 (50, 30, 20) Score:  0.8620659392095487\n",
      "Time:  346.5629119873047\n",
      "\n",
      "\n",
      "MLPClassifier Architecture 2 (20, 30, 50) Score:  0.8615686159787028\n",
      "\n",
      "Confusion Matrix on MLPClassifier Architecture 2 (20, 30, 50)\n",
      " [[    1    35     3     0     0     4     7     0     0]\n",
      " [    0  2850     2     4     0     0  2943     0     0]\n",
      " [    5   365     8     0     0     1   226     0     0]\n",
      " [    0     0     0  1884     0     0     0     0     0]\n",
      " [    1     0     1     0     0     0     1     0     0]\n",
      " [    3    74     5     0     0     1    23     0     0]\n",
      " [    0  1023     0     3     0     0 24707     0     0]\n",
      " [    0     0     0     0     0     0     1     0     0]\n",
      " [    0     0     0     0     0     0     2     0     0]]\n",
      "Time:  195.6533875465393\n",
      "\n",
      "\n",
      "MLPClassifier Architecture 3 (30, 50, 30) Score:  0.8620659392095487\n",
      "\n",
      "Confusion Matrix on MLPClassifier Architecture 3 (30, 50, 30)\n",
      " [[    1    33     7     0     0     1     8     0     0]\n",
      " [    0  2782    11     1     0     1  3004     0     0]\n",
      " [    1   346    15     0     3     1   239     0     0]\n",
      " [    0     0     0  1884     0     0     0     0     0]\n",
      " [    0     0     1     0     1     0     1     0     0]\n",
      " [    3    73     7     0     0     0    23     0     0]\n",
      " [    0   946     0     2     0     0 24785     0     0]\n",
      " [    0     0     0     0     0     0     1     0     0]\n",
      " [    0     0     0     0     0     0     2     0     0]]\n",
      "Time:  394.3287842273712\n",
      "\n",
      "\n",
      "MLPClassifier Architecture 4 (1000, ) Score:  0.8614808530556124\n",
      "\n",
      "Confusion Matrix on MLPClassifier Architecture 4 (1000, )\n",
      " [[    1    34     4     0     0     3     8     0     0]\n",
      " [    0  2764     2     2     0     2  3029     0     0]\n",
      " [    0   354     9     0     2     1   239     0     0]\n",
      " [    0     0     1  1883     0     0     0     0     0]\n",
      " [    0     0     2     0     0     0     1     0     0]\n",
      " [    1    71     8     0     0     0    26     0     0]\n",
      " [    0   933     1     8     0     0 24791     0     0]\n",
      " [    0     0     0     0     0     0     1     0     0]\n",
      " [    0     0     0     0     0     0     2     0     0]]\n",
      "Time:  1243.8889174461365\n",
      "\n",
      "\n",
      "MLPClassifier Architecture 5 (100, 100) Score:  0.8603691893631337\n",
      "\n",
      "Confusion Matrix on MLPClassifier Architecture 5 (100, 100)\n",
      " [[    3    32     4     0     0     1    10     0     0]\n",
      " [    0  2745     8     1     0     4  3041     0     0]\n",
      " [    5   361     7     0     2     1   229     0     0]\n",
      " [    0     0     0  1884     0     0     0     0     0]\n",
      " [    1     0     1     0     0     0     1     0     0]\n",
      " [    6    71     5     0     0     0    24     0     0]\n",
      " [    0   952     2     5     0     3 24771     0     0]\n",
      " [    0     0     0     0     0     0     1     0     0]\n",
      " [    0     0     0     0     0     0     2     0     0]]\n",
      "Time:  667.6862003803253\n"
     ]
    }
   ],
   "source": [
    "print(\"Logistic Regression Score: \", LogisticRegressionScore)\n",
    "#print(\"\\nConfusion Matrix on Logistic Regression\\n\", confusion_matrix(y_test_classification, logistic_regression.predict(X_test_classification)))\n",
    "print(\"Time: \", logistic_regression_time)\n",
    "\n",
    "print(\"\\n\")\n",
    "\n",
    "print(\"Logistic Regression Tune Score: \", LogisticRegressionTuneScore)\n",
    "#print(\"\\nConfusion Matrix on Logistic Regression Tune\\n\", confusion_matrix(y_test_classification, logistic_regression_grid.predict(X_test_classification)))\n",
    "print(\"Time: \", logistic_regression_time)\n",
    "\n",
    "print(\"\\n_______________________________\\n\")\n",
    "\n",
    "print(\"DecisionTreeClassifier Score: \", DecisionTreeClassifierScore)\n",
    "#print(\"\\nConfusion Matrix on DecisionTreeClassifier\\n\", confusion_matrix(y_test_classification, decision_tree_classifier.predict(X_test_classification)))\n",
    "print(\"Time: \", decision_tree_classifier_time)\n",
    "\n",
    "print(\"\\n\")\n",
    "\n",
    "print(\"DecisionTreeClassifier Tune Score: \", DecisionTreeClassifierTuneScore)\n",
    "#print(\"\\nConfusion Matrix on DecisionTreeClassifier Tune\\n\", confusion_matrix(y_test_classification, decision_tree_classifier_grid.predict(X_test_classification)))\n",
    "print(\"Time: \", decision_tree_classifier_grid_time)\n",
    "\n",
    "print(\"\\n_______________________________\\n\")\n",
    "\n",
    "print(\"RandomForestClassifier Score: \", RandomForestClassifierScore)\n",
    "#print(\"\\nConfusion Matrix on RandomForestClassifier\\n\", confusion_matrix(y_test_classification, random_forest_classifier.predict(X_test_classification)))\n",
    "print(\"Time: \", random_forest_classifier_time)\n",
    "\n",
    "print(\"\\n\")\n",
    "\n",
    "print(\"RandomForestClassifier Tune Score: \", RandomForestClassifierTuneScore)\n",
    "#print(\"\\nConfusion Matrix on RandomForestClassifier Tune\\n\", confusion_matrix(y_test_classification, random_forest_classifier_grid.predict(X_test_classification)))\n",
    "print(\"Time: \", random_forest_classifier_grid_time)\n",
    "\n",
    "print(\"\\n_______________________________\\n\")\n",
    "\n",
    "print(\"AdaBoostClassifier Score: \", AdaBoostClassifierScore)\n",
    "#print(\"\\nConfusion Matrix on AdaBoostClassifier\\n\", confusion_matrix(y_test_classification, ada_boost_classifier.predict(X_test_classification)))\n",
    "print(\"Time: \", ada_boost_classifier_time)\n",
    "\n",
    "print(\"\\n\")\n",
    "\n",
    "print(\"AdaBoostClassifier Tune Score: \", AdaBoostClassifierTuneScore)\n",
    "#print(\"\\nConfusion Matrix on AdaBoostClassifier Tune\\n\", confusion_matrix(y_test_classification, ada_boost_classifier_grid.predict(X_test_classification)))\n",
    "print(\"Time: \", ada_boost_classifier_grid_time)\n",
    "\n",
    "print(\"\\n_______________________________\\n\")\n",
    "\n",
    "print(\"LinearSVC Score: \", LinearSVCScore)\n",
    "#print(\"\\nConfusion Matrix on LinearSVC\\n\", confusion_matrix(y_test_classification, linear_svc.predict(X_test_classification)))\n",
    "print(\"Time: \", linear_svc_time)\n",
    "\n",
    "print(\"\\n_______________________________\\n\")\n",
    "\n",
    "print(\"KNeighborsClassifier Score: \", KNeighborsClassifierScore)\n",
    "#print(\"\\nConfusion Matrix on KNeighborsClassifier\\n\", confusion_matrix(y_test_classification, k_neighbors_classifier.predict(X_test_classification)))\n",
    "print(\"Time: \", k_neighbors_classifier_time)\n",
    "\n",
    "print(\"\\n\")\n",
    "\n",
    "print(\"KNeighborsClassifier Tune Score: \", KNeighborsClassifierTuneScore)\n",
    "#print(\"\\nConfusion Matrix on KNeighborsClassifier Tune\\n\", confusion_matrix(y_test_classification, k_neighbors_classifier_grid.predict(X_test_classification)))\n",
    "print(\"Time: \", k_neighbors_classifier_grid_time)\n",
    "\n",
    "print(\"\\n_______________________________\\n\")\n",
    "\n",
    "print(\"MLPClassifier Default Score: \", MLPClassifierDefaultScore)\n",
    "#print(\"\\nConfusion Matrix on MLPClassifier Default\\n\", confusion_matrix(y_test_classification, mlp_classifier.predict(X_test_classification)))\n",
    "print(\"Time: \", mlp_classifier_time)\n",
    "\n",
    "print(\"\\n\")\n",
    "\n",
    "print(\"MLPClassifier Architecture 1 (50, 30, 20) Score: \", MLPClassifier1)\n",
    "#print(\"\\nConfusion Matrix on MLPClassifier Architecture 1 (50, 30, 20)\\n\", confusion_matrix(y_test_classification, mlp_classifier_architecture_1.predict(X_test_classification)))\n",
    "print(\"Time: \", mlp_classifier_architecture_1_time)\n",
    "\n",
    "print(\"\\n\")\n",
    "\n",
    "print(\"MLPClassifier Architecture 2 (20, 30, 50) Score: \", MLPClassifier2)\n",
    "print(\"\\nConfusion Matrix on MLPClassifier Architecture 2 (20, 30, 50)\\n\", confusion_matrix(y_test_classification, mlp_classifier_architecture_2.predict(X_test_classification)))\n",
    "print(\"Time: \", mlp_classifier_architecture_2_time)\n",
    "\n",
    "print(\"\\n\")\n",
    "\n",
    "print(\"MLPClassifier Architecture 3 (30, 50, 30) Score: \", MLPClassifier3)\n",
    "print(\"\\nConfusion Matrix on MLPClassifier Architecture 3 (30, 50, 30)\\n\", confusion_matrix(y_test_classification, mlp_classifier_architecture_3.predict(X_test_classification)))\n",
    "print(\"Time: \", mlp_classifier_architecture_3_time)\n",
    "\n",
    "print(\"\\n\")\n",
    "\n",
    "print(\"MLPClassifier Architecture 4 (1000, ) Score: \", MLPClassifier4)\n",
    "print(\"\\nConfusion Matrix on MLPClassifier Architecture 4 (1000, )\\n\", confusion_matrix(y_test_classification, mlp_classifier_architecture_4.predict(X_test_classification)))\n",
    "print(\"Time: \", mlp_classifier_architecture_4_time)\n",
    "\n",
    "print(\"\\n\")\n",
    "\n",
    "print(\"MLPClassifier Architecture 5 (100, 100) Score: \", MLPClassifier5)\n",
    "print(\"\\nConfusion Matrix on MLPClassifier Architecture 5 (100, 100)\\n\", confusion_matrix(y_test_classification, mlp_classifier_architecture_5.predict(X_test_classification)))\n",
    "print(\"Time: \", mlp_classifier_architecture_5_time)"
   ]
  },
  {
   "cell_type": "markdown",
   "metadata": {},
   "source": [
    "#  I will draw conclusions"
   ]
  },
  {
   "cell_type": "markdown",
   "metadata": {},
   "source": [
    "<h3>\n",
    "This dataset is not intended either for classification or for regression.<br>\n",
    "The success rate of approximately 85% -90% is mainly due to the fact that algorithms learn to the 3 classes with most labels.</h3>"
   ]
  },
  {
   "cell_type": "markdown",
   "metadata": {},
   "source": [
    "# An obvious conclusion:"
   ]
  },
  {
   "cell_type": "markdown",
   "metadata": {},
   "source": [
    "# We can not accurately predict energy on Solar Flares but we can predict it by approximately 85%-90% accuracy."
   ]
  },
  {
   "cell_type": "code",
   "execution_count": null,
   "metadata": {},
   "outputs": [],
   "source": []
  }
 ],
 "metadata": {
  "kernelspec": {
   "display_name": "Python 3",
   "language": "python",
   "name": "python3"
  },
  "language_info": {
   "codemirror_mode": {
    "name": "ipython",
    "version": 3
   },
   "file_extension": ".py",
   "mimetype": "text/x-python",
   "name": "python",
   "nbconvert_exporter": "python",
   "pygments_lexer": "ipython3",
   "version": "3.7.6"
  }
 },
 "nbformat": 4,
 "nbformat_minor": 4
}
